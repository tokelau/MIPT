{
 "cells": [
  {
   "cell_type": "code",
   "execution_count": 55,
   "id": "baf74a87",
   "metadata": {},
   "outputs": [],
   "source": [
    "import pandas as pd\n",
    "import numpy as np"
   ]
  },
  {
   "cell_type": "markdown",
   "id": "27e94adb",
   "metadata": {},
   "source": [
    "## Чтение файлов"
   ]
  },
  {
   "cell_type": "code",
   "execution_count": 2,
   "id": "ba706e52",
   "metadata": {},
   "outputs": [],
   "source": [
    "articles = pd.read_csv('articles.csv', sep=';', header=None)\n",
    "stopwords = pd.read_csv('stopwords.csv', sep=';', header=None)"
   ]
  },
  {
   "cell_type": "code",
   "execution_count": 4,
   "id": "02c87ed6",
   "metadata": {},
   "outputs": [
    {
     "data": {
      "text/html": [
       "<div>\n",
       "<style scoped>\n",
       "    .dataframe tbody tr th:only-of-type {\n",
       "        vertical-align: middle;\n",
       "    }\n",
       "\n",
       "    .dataframe tbody tr th {\n",
       "        vertical-align: top;\n",
       "    }\n",
       "\n",
       "    .dataframe thead th {\n",
       "        text-align: right;\n",
       "    }\n",
       "</style>\n",
       "<table border=\"1\" class=\"dataframe\">\n",
       "  <thead>\n",
       "    <tr style=\"text-align: right;\">\n",
       "      <th></th>\n",
       "      <th>0</th>\n",
       "      <th>1</th>\n",
       "    </tr>\n",
       "  </thead>\n",
       "  <tbody>\n",
       "    <tr>\n",
       "      <th>0</th>\n",
       "      <td>1</td>\n",
       "      <td>Bradley Charles Cooper born January 5 1975 is ...</td>\n",
       "    </tr>\n",
       "    <tr>\n",
       "      <th>1</th>\n",
       "      <td>2</td>\n",
       "      <td>Cooper enrolled in the MFA program at the Acto...</td>\n",
       "    </tr>\n",
       "    <tr>\n",
       "      <th>2</th>\n",
       "      <td>3</td>\n",
       "      <td>Cooper found greater success with the romantic...</td>\n",
       "    </tr>\n",
       "    <tr>\n",
       "      <th>3</th>\n",
       "      <td>4</td>\n",
       "      <td>Labeled a sex symbol by the media Cooper was n...</td>\n",
       "    </tr>\n",
       "    <tr>\n",
       "      <th>4</th>\n",
       "      <td>5</td>\n",
       "      <td>Cooper was born on January 5  1975  in Abingto...</td>\n",
       "    </tr>\n",
       "  </tbody>\n",
       "</table>\n",
       "</div>"
      ],
      "text/plain": [
       "   0                                                  1\n",
       "0  1  Bradley Charles Cooper born January 5 1975 is ...\n",
       "1  2  Cooper enrolled in the MFA program at the Acto...\n",
       "2  3  Cooper found greater success with the romantic...\n",
       "3  4  Labeled a sex symbol by the media Cooper was n...\n",
       "4  5  Cooper was born on January 5  1975  in Abingto..."
      ]
     },
     "execution_count": 4,
     "metadata": {},
     "output_type": "execute_result"
    }
   ],
   "source": [
    "articles.head()"
   ]
  },
  {
   "cell_type": "code",
   "execution_count": 5,
   "id": "99cc4c3d",
   "metadata": {},
   "outputs": [
    {
     "data": {
      "text/html": [
       "<div>\n",
       "<style scoped>\n",
       "    .dataframe tbody tr th:only-of-type {\n",
       "        vertical-align: middle;\n",
       "    }\n",
       "\n",
       "    .dataframe tbody tr th {\n",
       "        vertical-align: top;\n",
       "    }\n",
       "\n",
       "    .dataframe thead th {\n",
       "        text-align: right;\n",
       "    }\n",
       "</style>\n",
       "<table border=\"1\" class=\"dataframe\">\n",
       "  <thead>\n",
       "    <tr style=\"text-align: right;\">\n",
       "      <th></th>\n",
       "      <th>0</th>\n",
       "    </tr>\n",
       "  </thead>\n",
       "  <tbody>\n",
       "    <tr>\n",
       "      <th>0</th>\n",
       "      <td>x</td>\n",
       "    </tr>\n",
       "    <tr>\n",
       "      <th>1</th>\n",
       "      <td>y</td>\n",
       "    </tr>\n",
       "    <tr>\n",
       "      <th>2</th>\n",
       "      <td>your</td>\n",
       "    </tr>\n",
       "    <tr>\n",
       "      <th>3</th>\n",
       "      <td>yours</td>\n",
       "    </tr>\n",
       "    <tr>\n",
       "      <th>4</th>\n",
       "      <td>yourself</td>\n",
       "    </tr>\n",
       "  </tbody>\n",
       "</table>\n",
       "</div>"
      ],
      "text/plain": [
       "          0\n",
       "0         x\n",
       "1         y\n",
       "2      your\n",
       "3     yours\n",
       "4  yourself"
      ]
     },
     "execution_count": 5,
     "metadata": {},
     "output_type": "execute_result"
    }
   ],
   "source": [
    "stopwords.head()"
   ]
  },
  {
   "cell_type": "markdown",
   "id": "0964accc",
   "metadata": {},
   "source": [
    "## Обработка данных"
   ]
  },
  {
   "cell_type": "markdown",
   "id": "73a2b5bd",
   "metadata": {},
   "source": [
    "- привести все слова к нижнему регистру"
   ]
  },
  {
   "cell_type": "code",
   "execution_count": 10,
   "id": "abed50f7",
   "metadata": {},
   "outputs": [],
   "source": [
    "articles['lower'] = articles[1].apply(lambda x: x.lower())"
   ]
  },
  {
   "cell_type": "markdown",
   "id": "0351084d",
   "metadata": {},
   "source": [
    "- отбросить все символы, которые не являются латинскими буквами _(и, вероятно, пробелами)_"
   ]
  },
  {
   "cell_type": "code",
   "execution_count": 15,
   "id": "94467406",
   "metadata": {},
   "outputs": [],
   "source": [
    "articles['latin'] = articles['lower'].apply(lambda text: ''.join([symbol for symbol in text if 'a' <= symbol <= 'z' or symbol.isspace()]))"
   ]
  },
  {
   "cell_type": "markdown",
   "id": "ba3d23ff",
   "metadata": {},
   "source": [
    "- удалить все стоп-слова из articles с помощью таблицы stopwords"
   ]
  },
  {
   "cell_type": "code",
   "execution_count": 30,
   "id": "c436e009",
   "metadata": {},
   "outputs": [],
   "source": [
    "articles['cleared'] = articles['latin'].apply(lambda text: [word for word in text.split() if (stopwords[0] == word).sum() == 0])"
   ]
  },
  {
   "cell_type": "markdown",
   "id": "a2626f3f",
   "metadata": {},
   "source": [
    "# Шаг 2"
   ]
  },
  {
   "cell_type": "code",
   "execution_count": 97,
   "id": "2c03becf",
   "metadata": {},
   "outputs": [],
   "source": [
    "def NPMI(text):\n",
    "    global words_freq\n",
    "    global words_total\n",
    "    global pairs_freq\n",
    "    global pairs_total\n",
    "    \n",
    "    # абсолютные частотности слов \n",
    "    words_total += len(text)\n",
    "    for word in text:\n",
    "        words_freq[word] = words_freq.get(word, 0) + 1\n",
    "    \n",
    "    # составим пары слов\n",
    "    pairs = list(zip(text, text[1:]))\n",
    "    pairs = list(map(lambda x: x[0] + \" \" + x[1], pairs))\n",
    "    \n",
    "    pairs_total += len(pairs)\n",
    "    for pair in pairs:\n",
    "        pairs_freq[pair] = pairs_freq.get(pair, 0) + 1 "
   ]
  },
  {
   "cell_type": "code",
   "execution_count": 98,
   "id": "4ad0979b",
   "metadata": {},
   "outputs": [],
   "source": [
    "words_freq = {}\n",
    "words_total = 0\n",
    "\n",
    "pairs_freq = {}\n",
    "pairs_total = 0\n",
    "\n",
    "articles['NPMI'] = articles['cleared'].apply(lambda text: NPMI(text))"
   ]
  },
  {
   "cell_type": "code",
   "execution_count": 101,
   "id": "6caffdda",
   "metadata": {},
   "outputs": [],
   "source": [
    "# вероятности слов, P(a), P(b)\n",
    "for key in words_freq:\n",
    "    words_freq[key] /= words_total\n",
    "    \n",
    "# вероятности пар слов, P(a, b)\n",
    "for key in pairs_freq:\n",
    "    pairs_freq[key] /= pairs_total\n",
    "    \n",
    "# теперь для каждой пары слов PMI\n",
    "PMI = {}\n",
    "for key in pairs_freq:\n",
    "    word1, word2 = key.split()\n",
    "\n",
    "    PMI_ab = np.log(pairs_freq[key] / (words_freq[word1] * words_freq[word2]))\n",
    "    PMI[key] = PMI_ab\n",
    "\n",
    "# теперь для каждой пары слов NPMI \n",
    "NPMI = {}\n",
    "for key in PMI:\n",
    "    NPMI[key] = -(PMI[key] / np.log(pairs_freq[key]))\n",
    "    \n",
    "# print(NPMI)\n",
    "#     return NPMI"
   ]
  },
  {
   "cell_type": "code",
   "execution_count": 102,
   "id": "4f631956",
   "metadata": {},
   "outputs": [
    {
     "data": {
      "text/plain": [
       "[('fish fry', 1.004695345930954),\n",
       " ('linings playbook', 1.0046474918383168),\n",
       " ('nightmare alley', 1.0046474918383168),\n",
       " ('los angeles', 1.0046474918383168),\n",
       " ('guardians galaxy', 1.0045902343009177),\n",
       " ('licorice pizza', 1.0045184658630515),\n",
       " ('barack obama', 1.0045184658630515),\n",
       " ('willy wanker', 1.0045184658630515),\n",
       " ('iberian peninsula', 1.0045184658630515),\n",
       " ('irina shayk', 1.004421042302328),\n",
       " ('phil wenneck', 1.004421042302328),\n",
       " ('bipolar disorder', 1.004421042302328),\n",
       " ('severely deformed', 1.004421042302328),\n",
       " ('clint eastwood', 1.004421042302328),\n",
       " ('pounds kg', 1.004421042302328),\n",
       " ('parke custis', 1.004421042302328),\n",
       " ('amos bronson', 1.004421042302328),\n",
       " ('allison rader', 1.004421042302328),\n",
       " ('steven moll', 1.004421042302328),\n",
       " ('bing crosby', 1.004421042302328),\n",
       " ('ella fitzgerald', 1.004421042302328),\n",
       " ('joel whitburns', 1.004421042302328),\n",
       " ('rabbit foot', 1.004421042302328),\n",
       " ('foot minstrels', 1.004421042302328),\n",
       " ('elks rendezvous', 1.004421042302328),\n",
       " ('here chickens', 1.004421042302328),\n",
       " ('elderly neighbor', 1.004421042302328),\n",
       " ('pulls gun', 1.004421042302328),\n",
       " ('unskilled individuals', 1.004421042302328),\n",
       " ('individuals hazardous', 1.004421042302328),\n",
       " ('hazardous equipment', 1.004421042302328),\n",
       " ('equipment unsanitary', 1.004421042302328),\n",
       " ('herbal medicines', 1.004421042302328),\n",
       " ('angkor wat', 1.004421042302328),\n",
       " ('carries heavy', 1.004421042302328),\n",
       " ('apostolicae sedis', 1.004421042302328),\n",
       " ('milvian bridge', 1.004421042302328),\n",
       " ('harold stassen', 1.004421042302328),\n",
       " ('spawned sequels', 1.004263879456239),\n",
       " ('grammys contributions', 1.004263879456239),\n",
       " ('supports charities', 1.004263879456239),\n",
       " ('abington township', 1.004263879456239),\n",
       " ('communities jenkintown', 1.004263879456239),\n",
       " ('jenkintown rydal', 1.004263879456239),\n",
       " ('gloria ne', 1.004263879456239),\n",
       " ('ne campano', 1.004263879456239),\n",
       " ('nbc affiliate', 1.004263879456239),\n",
       " ('ancestry abruzzo', 1.004263879456239),\n",
       " ('abruzzo naples', 1.004263879456239),\n",
       " ('holly cholesteatoma', 1.004263879456239)]"
      ]
     },
     "execution_count": 102,
     "metadata": {},
     "output_type": "execute_result"
    }
   ],
   "source": [
    "sorted(NPMI.items(), key=lambda x: x[1], reverse=True)[:50]"
   ]
  },
  {
   "cell_type": "code",
   "execution_count": null,
   "id": "875226df",
   "metadata": {},
   "outputs": [],
   "source": []
  }
 ],
 "metadata": {
  "kernelspec": {
   "display_name": "Python 3 (ipykernel)",
   "language": "python",
   "name": "python3"
  },
  "language_info": {
   "codemirror_mode": {
    "name": "ipython",
    "version": 3
   },
   "file_extension": ".py",
   "mimetype": "text/x-python",
   "name": "python",
   "nbconvert_exporter": "python",
   "pygments_lexer": "ipython3",
   "version": "3.9.13"
  }
 },
 "nbformat": 4,
 "nbformat_minor": 5
}

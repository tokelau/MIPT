{
 "cells": [
  {
   "cell_type": "code",
   "execution_count": 1,
   "id": "23601617",
   "metadata": {},
   "outputs": [],
   "source": [
    "import numpy as np\n",
    "import pandas as pd\n",
    "import random\n",
    "\n",
    "import matplotlib.pyplot as plt\n",
    "import seaborn as sns\n",
    "\n",
    "from kaggle_environments import make, evaluate"
   ]
  },
  {
   "cell_type": "code",
   "execution_count": null,
   "id": "6d7e1660",
   "metadata": {},
   "outputs": [],
   "source": [
    "#Example of the simple agent\n",
    "#0 - rock\n",
    "#1 - paper\n",
    "#2 - scissors"
   ]
  },
  {
   "cell_type": "code",
   "execution_count": null,
   "id": "fde00e8f",
   "metadata": {},
   "outputs": [],
   "source": [
    "# 1"
   ]
  },
  {
   "cell_type": "code",
   "execution_count": 2,
   "id": "74678b58",
   "metadata": {},
   "outputs": [
    {
     "name": "stdout",
     "output_type": "stream",
     "text": [
      "Writing agent_1.py\n"
     ]
    }
   ],
   "source": [
    "%%writefile agent_1.py\n",
    "\n",
    "# Всегда только бумага\n",
    "def agent_1(observation, configuration):\n",
    "    return 1"
   ]
  },
  {
   "cell_type": "code",
   "execution_count": null,
   "id": "fd81038d",
   "metadata": {},
   "outputs": [],
   "source": [
    "# 2"
   ]
  },
  {
   "cell_type": "code",
   "execution_count": 3,
   "id": "d57cee95",
   "metadata": {},
   "outputs": [
    {
     "name": "stdout",
     "output_type": "stream",
     "text": [
      "Writing agent_2.py\n"
     ]
    }
   ],
   "source": [
    "%%writefile agent_2.py\n",
    "\n",
    "# Всегда только ножницы\n",
    "def agent_2(observation, configuration):\n",
    "    return 2"
   ]
  },
  {
   "cell_type": "code",
   "execution_count": null,
   "id": "e55ba649",
   "metadata": {},
   "outputs": [],
   "source": [
    "# 3"
   ]
  },
  {
   "cell_type": "code",
   "execution_count": 4,
   "id": "65e81ab4",
   "metadata": {},
   "outputs": [
    {
     "name": "stdout",
     "output_type": "stream",
     "text": [
      "Writing agent_3.py\n"
     ]
    }
   ],
   "source": [
    "%%writefile agent_3.py\n",
    "\n",
    "import numpy as np\n",
    "\n",
    "\n",
    "# Рандомный знак\n",
    "def agent_3(observation, configuration):\n",
    "    return np.random.randint(0, 3)"
   ]
  },
  {
   "cell_type": "code",
   "execution_count": 5,
   "id": "19b7b487",
   "metadata": {},
   "outputs": [],
   "source": [
    "# 4"
   ]
  },
  {
   "cell_type": "code",
   "execution_count": 6,
   "id": "e8fe19ed",
   "metadata": {},
   "outputs": [
    {
     "name": "stdout",
     "output_type": "stream",
     "text": [
      "Writing agent_4.py\n"
     ]
    }
   ],
   "source": [
    "%%writefile agent_4.py\n",
    "\n",
    "# Остаток от деления номера шага на 3\n",
    "def agent_4(observation, configuration):\n",
    "    return observation['step'] % 3"
   ]
  },
  {
   "cell_type": "code",
   "execution_count": 7,
   "id": "5b158253",
   "metadata": {},
   "outputs": [],
   "source": [
    "# 5"
   ]
  },
  {
   "cell_type": "code",
   "execution_count": 8,
   "id": "8eae0868",
   "metadata": {},
   "outputs": [
    {
     "name": "stdout",
     "output_type": "stream",
     "text": [
      "Writing agent_5.py\n"
     ]
    }
   ],
   "source": [
    "%%writefile agent_5.py\n",
    "\n",
    "import random\n",
    "\n",
    "\n",
    "enemy_actions = {0: 0, 1: 0, 2: 0}\n",
    "\n",
    "\n",
    "# Копирует самый частый бросок врага\n",
    "def agent_5(observation, configuration):\n",
    "    global enemy_actions\n",
    "\n",
    "    if observation.step == 0:\n",
    "        return random.randrange(0, configuration.signs)\n",
    "    enemy_actions[observation.lastOpponentAction] += 1\n",
    "    if enemy_actions[0] >= enemy_actions[1] and enemy_actions[0] >= enemy_actions[2]:\n",
    "        return 1\n",
    "    elif enemy_actions[1] >= enemy_actions[0] and enemy_actions[1] >= enemy_actions[2]:\n",
    "        return 2\n",
    "    else:\n",
    "        return 0"
   ]
  },
  {
   "cell_type": "code",
   "execution_count": 9,
   "id": "2671656a",
   "metadata": {},
   "outputs": [],
   "source": [
    "# 6"
   ]
  },
  {
   "cell_type": "code",
   "execution_count": 10,
   "id": "fddb0026",
   "metadata": {},
   "outputs": [
    {
     "name": "stdout",
     "output_type": "stream",
     "text": [
      "Writing agent_6.py\n"
     ]
    }
   ],
   "source": [
    "%%writefile agent_6.py\n",
    "\n",
    "import random\n",
    "\n",
    "\n",
    "enemy_actions = []\n",
    "\n",
    "\n",
    "# Копия рандомного броска врага из истории\n",
    "def agent_6(observation, configuration):\n",
    "    global enemy_actions\n",
    "    \n",
    "    if observation.step == 0:\n",
    "        return random.randrange(0, configuration.signs)\n",
    "    \n",
    "    enemy_actions.append(observation.lastOpponentAction)\n",
    "    \n",
    "    return enemy_actions[random.randrange(0, len(enemy_actions))]"
   ]
  },
  {
   "cell_type": "code",
   "execution_count": null,
   "id": "55d30c4c",
   "metadata": {},
   "outputs": [],
   "source": [
    "# 7"
   ]
  },
  {
   "cell_type": "code",
   "execution_count": 11,
   "id": "f1c71b36",
   "metadata": {},
   "outputs": [
    {
     "name": "stdout",
     "output_type": "stream",
     "text": [
      "Writing agent_7.py\n"
     ]
    }
   ],
   "source": [
    "%%writefile agent_7.py\n",
    "import random\n",
    "\n",
    "\n",
    "actions = [0, 1, 1, 2, 0, 2]\n",
    "\n",
    "\n",
    "# Последовательно выбираем шаг из заданной стратегии\n",
    "def agent_7(observation, configuration):\n",
    "    global actions\n",
    "    \n",
    "    return actions[observation.step % len(actions)]"
   ]
  },
  {
   "cell_type": "code",
   "execution_count": 12,
   "id": "22db7c63",
   "metadata": {},
   "outputs": [],
   "source": [
    "# 8"
   ]
  },
  {
   "cell_type": "code",
   "execution_count": 13,
   "id": "9bf5ff24",
   "metadata": {},
   "outputs": [
    {
     "name": "stdout",
     "output_type": "stream",
     "text": [
      "Writing agent_8.py\n"
     ]
    }
   ],
   "source": [
    "%%writefile agent_8.py\n",
    "\n",
    "import random\n",
    "\n",
    "\n",
    "last_2 = []\n",
    "possible_actions = {0, 1, 2}\n",
    "\n",
    "\n",
    "# Бросок, который не встречался в селф-истории за последние два хода\n",
    "# Например, если два последних камень, то выбираем случайно между ножницы и бумага\n",
    "def agent_8(observation, configuration):\n",
    "    global last_2, possible_actions\n",
    "\n",
    "    if observation.step < 2:\n",
    "        action = random.randrange(0, configuration.signs)\n",
    "        last_2.append(action)\n",
    "        return action\n",
    "\n",
    "    next_possible = possible_actions - set(last_2)\n",
    "    next_action = random.choice(tuple(next_possible))\n",
    "    last_2.append(next_action)\n",
    "    last_2.pop(0)\n",
    "\n",
    "    return next_action"
   ]
  },
  {
   "cell_type": "code",
   "execution_count": 14,
   "id": "00c9e6f2",
   "metadata": {},
   "outputs": [],
   "source": [
    "# 9"
   ]
  },
  {
   "cell_type": "code",
   "execution_count": 15,
   "id": "c0df1f00",
   "metadata": {},
   "outputs": [
    {
     "name": "stdout",
     "output_type": "stream",
     "text": [
      "Writing agent_9.py\n"
     ]
    }
   ],
   "source": [
    "%%writefile agent_9.py\n",
    "\n",
    "import random\n",
    "\n",
    "\n",
    "last_2 = []\n",
    "possible_actions = {0, 1, 2}\n",
    "\n",
    "\n",
    "# Бросок, который не встречался в истории врага за последние два хода \n",
    "# Например, если два последних камень, то выбираем случайно между ножницы и бумага\n",
    "def agent_9(observation, configuration):\n",
    "    global last_2, possible_actions\n",
    "    \n",
    "    if observation.step == 0:\n",
    "        return random.randrange(0, configuration.signs)\n",
    "    elif observation.step < 2:\n",
    "        action = random.randrange(0, configuration.signs)\n",
    "        last_2.append(observation.lastOpponentAction)\n",
    "        return action\n",
    "    \n",
    "    next_possible = possible_actions - set(last_2)\n",
    "    next_action = random.choice(tuple(next_possible))\n",
    "    last_2.append(observation.lastOpponentAction)\n",
    "    last_2.pop(0)\n",
    "    \n",
    "    return next_action"
   ]
  },
  {
   "cell_type": "code",
   "execution_count": 16,
   "id": "b298bcb4",
   "metadata": {},
   "outputs": [],
   "source": [
    "# 10"
   ]
  },
  {
   "cell_type": "code",
   "execution_count": 17,
   "id": "4c7ae0ac",
   "metadata": {},
   "outputs": [
    {
     "name": "stdout",
     "output_type": "stream",
     "text": [
      "Writing agent_10.py\n"
     ]
    }
   ],
   "source": [
    "%%writefile agent_10.py\n",
    "\n",
    "import random\n",
    "\n",
    "\n",
    "our_last = None\n",
    "our_reward_last = 0\n",
    "\n",
    "\n",
    "# Если наш последний ход выиграл, то повторяем его же, \n",
    "# иначе копируем вражеский \n",
    "def agent_10(observation, configuration):\n",
    "    global our_last, our_reward_last\n",
    "\n",
    "    if observation.step == 0: # на нулевом шаге выбираем рандомно\n",
    "        our_last = random.randrange(0, configuration.signs)\n",
    "        return our_last\n",
    "\n",
    "    if our_reward_last < observation.reward:\n",
    "        return our_last\n",
    "\n",
    "    our_reward_last = observation.reward\n",
    "    our_last = observation.lastOpponentAction\n",
    "    \n",
    "    return our_last"
   ]
  },
  {
   "cell_type": "code",
   "execution_count": 18,
   "id": "d2e692c2",
   "metadata": {},
   "outputs": [],
   "source": [
    "# 11"
   ]
  },
  {
   "cell_type": "code",
   "execution_count": 19,
   "id": "faa26a4d",
   "metadata": {},
   "outputs": [
    {
     "name": "stdout",
     "output_type": "stream",
     "text": [
      "Writing agent_11.py\n"
     ]
    }
   ],
   "source": [
    "%%writefile agent_11.py\n",
    "\n",
    "import random\n",
    "\n",
    "\n",
    "our_last = None\n",
    "our_reward_last = 0\n",
    "\n",
    "\n",
    "# Если наш последний ход выиграл, то копируем вражеский,\n",
    "# иначе повторяем свой ход\n",
    "def agent_11(observation, configuration):\n",
    "    global our_last, our_reward_last\n",
    "\n",
    "    if observation.step == 0:  # на нулевом шаге выбираем рандомно\n",
    "        our_last = random.randrange(0, configuration.signs)\n",
    "        return our_last\n",
    "\n",
    "    if our_reward_last < observation.reward:\n",
    "        our_last = observation.lastOpponentAction\n",
    "        return our_last\n",
    "\n",
    "    our_reward_last = observation.reward\n",
    "\n",
    "    return our_last"
   ]
  },
  {
   "cell_type": "code",
   "execution_count": 20,
   "id": "f30f98bd",
   "metadata": {},
   "outputs": [],
   "source": [
    "# 12"
   ]
  },
  {
   "cell_type": "code",
   "execution_count": 21,
   "id": "3e39687a",
   "metadata": {},
   "outputs": [
    {
     "name": "stdout",
     "output_type": "stream",
     "text": [
      "Writing agent_12.py\n"
     ]
    }
   ],
   "source": [
    "%%writefile agent_12.py\n",
    "\n",
    "import random\n",
    "\n",
    "\n",
    "our_last = None\n",
    "our_reward_last = 0\n",
    "\n",
    "\n",
    "# Если наш последний ход выиграл, то повторяем его же,\n",
    "# иначе копируем вражеский\n",
    "def agent_12(observation, configuration):\n",
    "    global our_last, our_reward_last\n",
    "\n",
    "    if observation.step == 0: # на нулевом шаге выбираем рандомно\n",
    "        our_last = random.randrange(0, configuration.signs)\n",
    "        return our_last\n",
    "\n",
    "    if our_reward_last < observation.reward:\n",
    "        return our_last\n",
    "\n",
    "    our_reward_last = observation.reward\n",
    "    our_last = random.randrange(0, configuration.signs)\n",
    "    \n",
    "    return our_last"
   ]
  },
  {
   "cell_type": "code",
   "execution_count": 110,
   "id": "5a44937c",
   "metadata": {},
   "outputs": [],
   "source": [
    "# 13"
   ]
  },
  {
   "cell_type": "code",
   "execution_count": 116,
   "id": "a29e44e7",
   "metadata": {},
   "outputs": [
    {
     "name": "stdout",
     "output_type": "stream",
     "text": [
      "Writing agent_13.py\n"
     ]
    }
   ],
   "source": [
    "%%writefile agent_13.py\n",
    "import random\n",
    "\n",
    "\n",
    "actions = [0, 2, 1, 2, 0, 1]\n",
    "\n",
    "\n",
    "# Последовательно выбираем шаг из заданной стратегии\n",
    "def agent_13(observation, configuration):\n",
    "    global actions\n",
    "    \n",
    "    return actions[observation.step % len(actions)]"
   ]
  },
  {
   "cell_type": "markdown",
   "id": "56bd1161",
   "metadata": {},
   "source": [
    "# Проверка"
   ]
  },
  {
   "cell_type": "markdown",
   "id": "cc020c8a",
   "metadata": {},
   "source": [
    "Пусть каждый агент сыграет в каждым, посмотрим, какая стратегия покажет себя лучше всех"
   ]
  },
  {
   "cell_type": "code",
   "execution_count": 113,
   "id": "7ab85037",
   "metadata": {},
   "outputs": [
    {
     "data": {
      "text/plain": [
       "['agent_1.py',\n",
       " 'agent_2.py',\n",
       " 'agent_3.py',\n",
       " 'agent_4.py',\n",
       " 'agent_5.py',\n",
       " 'agent_6.py',\n",
       " 'agent_7.py',\n",
       " 'agent_8.py',\n",
       " 'agent_9.py',\n",
       " 'agent_10.py',\n",
       " 'agent_11.py',\n",
       " 'agent_12.py',\n",
       " 'agent_13.py']"
      ]
     },
     "execution_count": 113,
     "metadata": {},
     "output_type": "execute_result"
    }
   ],
   "source": [
    "# Составим список агентов\n",
    "list_agents = [f\"agent_{i}.py\" for i in range(1, 14)]\n",
    "list_agents"
   ]
  },
  {
   "cell_type": "code",
   "execution_count": 114,
   "id": "4a7d8d5e",
   "metadata": {},
   "outputs": [
    {
     "data": {
      "text/plain": [
       "array([[0, 0, 0, 0, 0, 0, 0, 0, 0, 0, 0, 0, 0],\n",
       "       [0, 0, 0, 0, 0, 0, 0, 0, 0, 0, 0, 0, 0],\n",
       "       [0, 0, 0, 0, 0, 0, 0, 0, 0, 0, 0, 0, 0],\n",
       "       [0, 0, 0, 0, 0, 0, 0, 0, 0, 0, 0, 0, 0],\n",
       "       [0, 0, 0, 0, 0, 0, 0, 0, 0, 0, 0, 0, 0],\n",
       "       [0, 0, 0, 0, 0, 0, 0, 0, 0, 0, 0, 0, 0],\n",
       "       [0, 0, 0, 0, 0, 0, 0, 0, 0, 0, 0, 0, 0],\n",
       "       [0, 0, 0, 0, 0, 0, 0, 0, 0, 0, 0, 0, 0],\n",
       "       [0, 0, 0, 0, 0, 0, 0, 0, 0, 0, 0, 0, 0],\n",
       "       [0, 0, 0, 0, 0, 0, 0, 0, 0, 0, 0, 0, 0],\n",
       "       [0, 0, 0, 0, 0, 0, 0, 0, 0, 0, 0, 0, 0],\n",
       "       [0, 0, 0, 0, 0, 0, 0, 0, 0, 0, 0, 0, 0],\n",
       "       [0, 0, 0, 0, 0, 0, 0, 0, 0, 0, 0, 0, 0]])"
      ]
     },
     "execution_count": 114,
     "metadata": {},
     "output_type": "execute_result"
    }
   ],
   "source": [
    "# Заготовка массива для баллов\n",
    "scores = np.zeros((len(list_agents), len(list_agents)), dtype=int)\n",
    "scores"
   ]
  },
  {
   "cell_type": "markdown",
   "id": "3efca426",
   "metadata": {},
   "source": [
    "Во вложенном цикле пройдемся по всем комибнациям. Мы должны получить симметричную относительно главной диагонали матрицу. "
   ]
  },
  {
   "cell_type": "code",
   "execution_count": 117,
   "id": "e26aabe1",
   "metadata": {},
   "outputs": [
    {
     "name": "stdout",
     "output_type": "stream",
     "text": [
      "0\n",
      "1\n",
      "2\n",
      "3\n",
      "4\n",
      "5\n",
      "6\n",
      "7\n",
      "8\n",
      "9\n",
      "10\n",
      "11\n",
      "12\n"
     ]
    }
   ],
   "source": [
    "for i in range(scores.shape[0]):\n",
    "    print(i)\n",
    "    for j in range(scores.shape[1]):\n",
    "        res = evaluate(\n",
    "                    \"rps\",                                 \n",
    "                    [list_agents[i], list_agents[j]],      # агенты\n",
    "                    configuration={\"episodeSteps\": 50, \n",
    "                                   'tieRewardThreshold': 1 # Минимальная награда, необходимая \n",
    "                                                           # для достижения победы, а не ничьей\n",
    "                                  }, \n",
    "#                     num_episodes=5\n",
    "                )[0]\n",
    "        scores[i][j] = np.sign(res[0])\n",
    "        scores[j][i] = np.sign(res[1])"
   ]
  },
  {
   "cell_type": "code",
   "execution_count": 118,
   "id": "d555a434",
   "metadata": {},
   "outputs": [
    {
     "data": {
      "text/plain": [
       "array([[ 0, -1, -1,  1, -1,  1,  1,  1, -1,  1,  0,  1,  1],\n",
       "       [ 1,  0,  1, -1, -1,  0, -1,  0, -1,  0,  1, -1, -1],\n",
       "       [ 1, -1, -1,  1, -1, -1,  1, -1, -1, -1,  1,  1,  1],\n",
       "       [-1,  1, -1,  0, -1,  1,  1,  1,  1,  1,  1,  1,  1],\n",
       "       [ 1,  1,  1,  1, -1,  1, -1,  0,  0,  1, -1, -1, -1],\n",
       "       [-1,  0,  1, -1, -1,  1, -1,  1, -1, -1,  0,  1,  1],\n",
       "       [-1,  1, -1, -1,  1,  1,  0, -1,  1,  1,  1,  0,  0],\n",
       "       [-1,  0,  1, -1,  0, -1,  1,  0,  1,  1, -1,  1, -1],\n",
       "       [ 1,  1,  1, -1,  0,  1, -1, -1,  1,  1,  1,  1,  1],\n",
       "       [-1,  0,  1, -1, -1,  1, -1, -1, -1,  1,  0, -1, -1],\n",
       "       [ 0, -1, -1, -1,  1,  0, -1,  1, -1,  0,  1,  1,  1],\n",
       "       [-1,  1, -1, -1,  1, -1,  0, -1, -1,  1, -1,  0,  0],\n",
       "       [-1,  1, -1, -1,  1, -1,  0,  1, -1,  1, -1,  0,  0]])"
      ]
     },
     "execution_count": 118,
     "metadata": {},
     "output_type": "execute_result"
    }
   ],
   "source": [
    "scores"
   ]
  },
  {
   "cell_type": "code",
   "execution_count": 119,
   "id": "81c0afce",
   "metadata": {},
   "outputs": [
    {
     "data": {
      "text/plain": [
       "array([-3,  3, -1, -6, -3,  3, -2,  0, -4,  7,  2,  4,  2])"
      ]
     },
     "execution_count": 119,
     "metadata": {},
     "output_type": "execute_result"
    }
   ],
   "source": [
    "scores.sum(axis=0)  # сумма побед и поражения"
   ]
  },
  {
   "cell_type": "code",
   "execution_count": 120,
   "id": "609ced48",
   "metadata": {},
   "outputs": [
    {
     "data": {
      "text/plain": [
       "9"
      ]
     },
     "execution_count": 120,
     "metadata": {},
     "output_type": "execute_result"
    }
   ],
   "source": [
    "np.argmax(scores.sum(axis=0))  # индекс лучшей стратегии"
   ]
  },
  {
   "cell_type": "code",
   "execution_count": 121,
   "id": "9fa9cdcb",
   "metadata": {},
   "outputs": [
    {
     "data": {
      "text/plain": [
       "array([-0.23076923,  0.23076923, -0.07692308, -0.46153846, -0.23076923,\n",
       "        0.23076923, -0.15384615,  0.        , -0.30769231,  0.53846154,\n",
       "        0.15384615,  0.30769231,  0.15384615])"
      ]
     },
     "execution_count": 121,
     "metadata": {},
     "output_type": "execute_result"
    }
   ],
   "source": [
    "scores.mean(axis=0) # среднее арифметическое побед и поражения"
   ]
  },
  {
   "cell_type": "code",
   "execution_count": 122,
   "id": "95a9098f",
   "metadata": {},
   "outputs": [
    {
     "data": {
      "text/plain": [
       "9"
      ]
     },
     "execution_count": 122,
     "metadata": {},
     "output_type": "execute_result"
    }
   ],
   "source": [
    "np.argmax(scores.mean(axis=0)) # индекс лучшей стратегии"
   ]
  },
  {
   "cell_type": "code",
   "execution_count": 123,
   "id": "b1afba50",
   "metadata": {},
   "outputs": [],
   "source": [
    "# Теперь посчитаем только победы"
   ]
  },
  {
   "cell_type": "code",
   "execution_count": 124,
   "id": "720ac334",
   "metadata": {},
   "outputs": [
    {
     "data": {
      "text/plain": [
       "array([[0, 0, 0, 1, 0, 1, 1, 1, 0, 1, 0, 1, 1],\n",
       "       [1, 0, 1, 0, 0, 0, 0, 0, 0, 0, 1, 0, 0],\n",
       "       [1, 0, 0, 1, 0, 0, 1, 0, 0, 0, 1, 1, 1],\n",
       "       [0, 1, 0, 0, 0, 1, 1, 1, 1, 1, 1, 1, 1],\n",
       "       [1, 1, 1, 1, 0, 1, 0, 0, 0, 1, 0, 0, 0],\n",
       "       [0, 0, 1, 0, 0, 1, 0, 1, 0, 0, 0, 1, 1],\n",
       "       [0, 1, 0, 0, 1, 1, 0, 0, 1, 1, 1, 0, 0],\n",
       "       [0, 0, 1, 0, 0, 0, 1, 0, 1, 1, 0, 1, 0],\n",
       "       [1, 1, 1, 0, 0, 1, 0, 0, 1, 1, 1, 1, 1],\n",
       "       [0, 0, 1, 0, 0, 1, 0, 0, 0, 1, 0, 0, 0],\n",
       "       [0, 0, 0, 0, 1, 0, 0, 1, 0, 0, 1, 1, 1],\n",
       "       [0, 1, 0, 0, 1, 0, 0, 0, 0, 1, 0, 0, 0],\n",
       "       [0, 1, 0, 0, 1, 0, 0, 1, 0, 1, 0, 0, 0]])"
      ]
     },
     "execution_count": 124,
     "metadata": {},
     "output_type": "execute_result"
    }
   ],
   "source": [
    "wins = np.where(scores == 1, scores, 0)\n",
    "wins"
   ]
  },
  {
   "cell_type": "code",
   "execution_count": 125,
   "id": "13e706c2",
   "metadata": {},
   "outputs": [
    {
     "data": {
      "text/plain": [
       "array([4, 6, 6, 3, 4, 7, 4, 5, 4, 9, 6, 7, 6])"
      ]
     },
     "execution_count": 125,
     "metadata": {},
     "output_type": "execute_result"
    }
   ],
   "source": [
    "wins.sum(axis=0)  # снова посчитаем суммы"
   ]
  },
  {
   "cell_type": "code",
   "execution_count": 126,
   "id": "a773a426",
   "metadata": {},
   "outputs": [
    {
     "data": {
      "text/plain": [
       "9"
      ]
     },
     "execution_count": 126,
     "metadata": {},
     "output_type": "execute_result"
    }
   ],
   "source": [
    "np.argmax(scores.sum(axis=0))  # индекс лучшей стратегии"
   ]
  },
  {
   "cell_type": "markdown",
   "id": "a7da8399",
   "metadata": {},
   "source": [
    "# Итог\n",
    "Стратегия 10 лучше всех (выше выводится 9, поскольку это индекс, 9+1 = 10 стратегия). Стратегия заключалась в следующем:\n",
    "Если наш последний ход выиграл, то повторяем его же, \n",
    "иначе копируем вражеский "
   ]
  },
  {
   "cell_type": "code",
   "execution_count": null,
   "id": "2b5c08e1",
   "metadata": {},
   "outputs": [],
   "source": []
  }
 ],
 "metadata": {
  "kernelspec": {
   "display_name": "Python 3 (ipykernel)",
   "language": "python",
   "name": "python3"
  },
  "language_info": {
   "codemirror_mode": {
    "name": "ipython",
    "version": 3
   },
   "file_extension": ".py",
   "mimetype": "text/x-python",
   "name": "python",
   "nbconvert_exporter": "python",
   "pygments_lexer": "ipython3",
   "version": "3.9.12"
  }
 },
 "nbformat": 4,
 "nbformat_minor": 5
}

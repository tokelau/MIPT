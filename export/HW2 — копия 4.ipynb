{
  "cells": [
    {
      "cell_type": "markdown",
      "metadata": {
        "id": "view-in-github",
        "colab_type": "text"
      },
      "source": [
        "<a href=\"https://colab.research.google.com/github/tokelau/MIPT/blob/master/HW2.ipynb\" target=\"_parent\"><img src=\"https://colab.research.google.com/assets/colab-badge.svg\" alt=\"Open In Colab\"/></a>"
      ]
    },
    {
      "cell_type": "code",
      "execution_count": null,
      "id": "0fd298c2",
      "metadata": {
        "id": "0fd298c2"
      },
      "outputs": [],
      "source": [
        "import pandas as pd\n",
        "import matplotlib.pyplot as plt\n",
        "import numpy as np\n",
        "import seaborn as sns"
      ]
    },
    {
      "cell_type": "markdown",
      "id": "5b6244ed",
      "metadata": {
        "id": "5b6244ed"
      },
      "source": [
        "# Изучение датасетов об успеваемости студентов на онлайн-курсе"
      ]
    },
    {
      "cell_type": "markdown",
      "id": "fa251667",
      "metadata": {
        "id": "fa251667"
      },
      "source": [
        "# train.csv - успеваемость студентов"
      ]
    },
    {
      "cell_type": "markdown",
      "id": "3a1e3d71",
      "metadata": {
        "id": "3a1e3d71"
      },
      "source": [
        "- **timestamp:** (int64) время между этим действием и первым завершением события(?) от этого пользователя\n",
        "- **user_id:** (int32) ID code for the user.\n",
        "- **content_id:** (int16) ID активности\n",
        "- **content_type_id:** (int8) 0, если это задание/вопрос, 1, если это лекция\n",
        "- **task_container_id:** (int16) Идентификационный код для пакета вопросов или лекций. Например, пользователь может увидеть три вопроса подряд, прежде чем увидит пояснения к любому из них. Все эти трое будут иметь общий идентификатор task_container_id.\n",
        "- **user_answer:** (int8) ответ пользователя. -1, если это была лекция\n",
        "- **answered_correctly:** (int8) 1 - ответ верный, 0 - неверный, -1 - это была лекция\n",
        "- **prior_question_elapsed_time:** (float32) Среднее время в миллисекундах, затрачиваемое пользователем на ответ на каждый вопрос из предыдущей группы вопросов, без учета промежуточных лекций. Имеет значение null для первого набора вопросов пользователя или лекции. Обратите внимание, что время — это среднее время, затраченное пользователем на решение каждого вопроса в предыдущем наборе.\n",
        "- **prior_question_had_explanation**: (bool) предыдущий вопрос имел объяснение(?) Whether or not the user saw an explanation and the correct response(s) after answering the previous question bundle, ignoring any lectures in between. The value is shared across a single question bundle, and is null for a user's first question bundle or lecture. Typically the first several questions a user sees were part of an onboarding diagnostic test where they did not get any feedback."
      ]
    },
    {
      "cell_type": "code",
      "execution_count": null,
      "id": "ba164a31",
      "metadata": {
        "id": "ba164a31"
      },
      "outputs": [],
      "source": [
        "train = pd.read_csv(\"riiid-test-answer-prediction/train.csv\", index_col=\"row_id\") # , nrows=20000"
      ]
    },
    {
      "cell_type": "code",
      "execution_count": null,
      "id": "3d4918ef",
      "metadata": {
        "id": "3d4918ef",
        "outputId": "24ad05f9-4705-4eca-fd1e-23eb99c1c06d"
      },
      "outputs": [
        {
          "data": {
            "text/html": [
              "<div>\n",
              "<style scoped>\n",
              "    .dataframe tbody tr th:only-of-type {\n",
              "        vertical-align: middle;\n",
              "    }\n",
              "\n",
              "    .dataframe tbody tr th {\n",
              "        vertical-align: top;\n",
              "    }\n",
              "\n",
              "    .dataframe thead th {\n",
              "        text-align: right;\n",
              "    }\n",
              "</style>\n",
              "<table border=\"1\" class=\"dataframe\">\n",
              "  <thead>\n",
              "    <tr style=\"text-align: right;\">\n",
              "      <th></th>\n",
              "      <th>timestamp</th>\n",
              "      <th>user_id</th>\n",
              "      <th>content_id</th>\n",
              "      <th>content_type_id</th>\n",
              "      <th>task_container_id</th>\n",
              "      <th>user_answer</th>\n",
              "      <th>answered_correctly</th>\n",
              "      <th>prior_question_elapsed_time</th>\n",
              "      <th>prior_question_had_explanation</th>\n",
              "    </tr>\n",
              "    <tr>\n",
              "      <th>row_id</th>\n",
              "      <th></th>\n",
              "      <th></th>\n",
              "      <th></th>\n",
              "      <th></th>\n",
              "      <th></th>\n",
              "      <th></th>\n",
              "      <th></th>\n",
              "      <th></th>\n",
              "      <th></th>\n",
              "    </tr>\n",
              "  </thead>\n",
              "  <tbody>\n",
              "    <tr>\n",
              "      <th>0</th>\n",
              "      <td>0</td>\n",
              "      <td>115</td>\n",
              "      <td>5692</td>\n",
              "      <td>0</td>\n",
              "      <td>1</td>\n",
              "      <td>3</td>\n",
              "      <td>1</td>\n",
              "      <td>NaN</td>\n",
              "      <td>NaN</td>\n",
              "    </tr>\n",
              "    <tr>\n",
              "      <th>1</th>\n",
              "      <td>56943</td>\n",
              "      <td>115</td>\n",
              "      <td>5716</td>\n",
              "      <td>0</td>\n",
              "      <td>2</td>\n",
              "      <td>2</td>\n",
              "      <td>1</td>\n",
              "      <td>37000.0</td>\n",
              "      <td>False</td>\n",
              "    </tr>\n",
              "    <tr>\n",
              "      <th>2</th>\n",
              "      <td>118363</td>\n",
              "      <td>115</td>\n",
              "      <td>128</td>\n",
              "      <td>0</td>\n",
              "      <td>0</td>\n",
              "      <td>0</td>\n",
              "      <td>1</td>\n",
              "      <td>55000.0</td>\n",
              "      <td>False</td>\n",
              "    </tr>\n",
              "    <tr>\n",
              "      <th>3</th>\n",
              "      <td>131167</td>\n",
              "      <td>115</td>\n",
              "      <td>7860</td>\n",
              "      <td>0</td>\n",
              "      <td>3</td>\n",
              "      <td>0</td>\n",
              "      <td>1</td>\n",
              "      <td>19000.0</td>\n",
              "      <td>False</td>\n",
              "    </tr>\n",
              "    <tr>\n",
              "      <th>4</th>\n",
              "      <td>137965</td>\n",
              "      <td>115</td>\n",
              "      <td>7922</td>\n",
              "      <td>0</td>\n",
              "      <td>4</td>\n",
              "      <td>1</td>\n",
              "      <td>1</td>\n",
              "      <td>11000.0</td>\n",
              "      <td>False</td>\n",
              "    </tr>\n",
              "  </tbody>\n",
              "</table>\n",
              "</div>"
            ],
            "text/plain": [
              "        timestamp  user_id  content_id  content_type_id  task_container_id  \\\n",
              "row_id                                                                       \n",
              "0               0      115        5692                0                  1   \n",
              "1           56943      115        5716                0                  2   \n",
              "2          118363      115         128                0                  0   \n",
              "3          131167      115        7860                0                  3   \n",
              "4          137965      115        7922                0                  4   \n",
              "\n",
              "        user_answer  answered_correctly  prior_question_elapsed_time  \\\n",
              "row_id                                                                 \n",
              "0                 3                   1                          NaN   \n",
              "1                 2                   1                      37000.0   \n",
              "2                 0                   1                      55000.0   \n",
              "3                 0                   1                      19000.0   \n",
              "4                 1                   1                      11000.0   \n",
              "\n",
              "       prior_question_had_explanation  \n",
              "row_id                                 \n",
              "0                                 NaN  \n",
              "1                               False  \n",
              "2                               False  \n",
              "3                               False  \n",
              "4                               False  "
            ]
          },
          "execution_count": 32,
          "metadata": {},
          "output_type": "execute_result"
        }
      ],
      "source": [
        "train.head()"
      ]
    },
    {
      "cell_type": "code",
      "execution_count": null,
      "id": "b9905627",
      "metadata": {
        "id": "b9905627",
        "outputId": "8a768297-a625-4fd9-871a-86f616780d10"
      },
      "outputs": [
        {
          "name": "stdout",
          "output_type": "stream",
          "text": [
            "<class 'pandas.core.frame.DataFrame'>\n",
            "Int64Index: 20000 entries, 0 to 19999\n",
            "Data columns (total 9 columns):\n",
            " #   Column                          Non-Null Count  Dtype  \n",
            "---  ------                          --------------  -----  \n",
            " 0   timestamp                       20000 non-null  int64  \n",
            " 1   user_id                         20000 non-null  int64  \n",
            " 2   content_id                      20000 non-null  int64  \n",
            " 3   content_type_id                 20000 non-null  int64  \n",
            " 4   task_container_id               20000 non-null  int64  \n",
            " 5   user_answer                     20000 non-null  int64  \n",
            " 6   answered_correctly              20000 non-null  int64  \n",
            " 7   prior_question_elapsed_time     19542 non-null  float64\n",
            " 8   prior_question_had_explanation  19957 non-null  object \n",
            "dtypes: float64(1), int64(7), object(1)\n",
            "memory usage: 1.5+ MB\n"
          ]
        }
      ],
      "source": [
        "train.info()"
      ]
    },
    {
      "cell_type": "code",
      "execution_count": null,
      "id": "0649bd1c",
      "metadata": {
        "id": "0649bd1c",
        "outputId": "71508412-cba3-4b92-d6d5-c0ab1ff95f01"
      },
      "outputs": [
        {
          "data": {
            "text/html": [
              "<div>\n",
              "<style scoped>\n",
              "    .dataframe tbody tr th:only-of-type {\n",
              "        vertical-align: middle;\n",
              "    }\n",
              "\n",
              "    .dataframe tbody tr th {\n",
              "        vertical-align: top;\n",
              "    }\n",
              "\n",
              "    .dataframe thead th {\n",
              "        text-align: right;\n",
              "    }\n",
              "</style>\n",
              "<table border=\"1\" class=\"dataframe\">\n",
              "  <thead>\n",
              "    <tr style=\"text-align: right;\">\n",
              "      <th></th>\n",
              "      <th>timestamp</th>\n",
              "      <th>user_id</th>\n",
              "      <th>content_id</th>\n",
              "      <th>content_type_id</th>\n",
              "      <th>task_container_id</th>\n",
              "      <th>user_answer</th>\n",
              "      <th>answered_correctly</th>\n",
              "      <th>prior_question_elapsed_time</th>\n",
              "    </tr>\n",
              "  </thead>\n",
              "  <tbody>\n",
              "    <tr>\n",
              "      <th>count</th>\n",
              "      <td>2.000000e+04</td>\n",
              "      <td>20000.000000</td>\n",
              "      <td>20000.000000</td>\n",
              "      <td>20000.00000</td>\n",
              "      <td>20000.000000</td>\n",
              "      <td>20000.000000</td>\n",
              "      <td>20000.000000</td>\n",
              "      <td>19542.000000</td>\n",
              "    </tr>\n",
              "    <tr>\n",
              "      <th>mean</th>\n",
              "      <td>5.707366e+09</td>\n",
              "      <td>90272.814350</td>\n",
              "      <td>5416.631600</td>\n",
              "      <td>0.02075</td>\n",
              "      <td>1158.101250</td>\n",
              "      <td>1.390850</td>\n",
              "      <td>0.649900</td>\n",
              "      <td>24261.523744</td>\n",
              "    </tr>\n",
              "    <tr>\n",
              "      <th>std</th>\n",
              "      <td>5.151766e+09</td>\n",
              "      <td>69644.353597</td>\n",
              "      <td>4025.878106</td>\n",
              "      <td>0.14255</td>\n",
              "      <td>1265.240323</td>\n",
              "      <td>1.196728</td>\n",
              "      <td>0.518694</td>\n",
              "      <td>15499.427882</td>\n",
              "    </tr>\n",
              "    <tr>\n",
              "      <th>min</th>\n",
              "      <td>0.000000e+00</td>\n",
              "      <td>115.000000</td>\n",
              "      <td>0.000000</td>\n",
              "      <td>0.00000</td>\n",
              "      <td>0.000000</td>\n",
              "      <td>-1.000000</td>\n",
              "      <td>-1.000000</td>\n",
              "      <td>333.000000</td>\n",
              "    </tr>\n",
              "    <tr>\n",
              "      <th>25%</th>\n",
              "      <td>1.535160e+09</td>\n",
              "      <td>24418.000000</td>\n",
              "      <td>2081.000000</td>\n",
              "      <td>0.00000</td>\n",
              "      <td>251.000000</td>\n",
              "      <td>0.000000</td>\n",
              "      <td>0.000000</td>\n",
              "      <td>16000.000000</td>\n",
              "    </tr>\n",
              "    <tr>\n",
              "      <th>50%</th>\n",
              "      <td>4.578822e+09</td>\n",
              "      <td>91216.000000</td>\n",
              "      <td>5263.000000</td>\n",
              "      <td>0.00000</td>\n",
              "      <td>715.000000</td>\n",
              "      <td>1.000000</td>\n",
              "      <td>1.000000</td>\n",
              "      <td>21000.000000</td>\n",
              "    </tr>\n",
              "    <tr>\n",
              "      <th>75%</th>\n",
              "      <td>8.577729e+09</td>\n",
              "      <td>141455.000000</td>\n",
              "      <td>7744.250000</td>\n",
              "      <td>0.00000</td>\n",
              "      <td>1405.250000</td>\n",
              "      <td>3.000000</td>\n",
              "      <td>1.000000</td>\n",
              "      <td>28000.000000</td>\n",
              "    </tr>\n",
              "    <tr>\n",
              "      <th>max</th>\n",
              "      <td>4.375822e+10</td>\n",
              "      <td>220268.000000</td>\n",
              "      <td>32736.000000</td>\n",
              "      <td>1.00000</td>\n",
              "      <td>4889.000000</td>\n",
              "      <td>3.000000</td>\n",
              "      <td>1.000000</td>\n",
              "      <td>300000.000000</td>\n",
              "    </tr>\n",
              "  </tbody>\n",
              "</table>\n",
              "</div>"
            ],
            "text/plain": [
              "          timestamp        user_id    content_id  content_type_id  \\\n",
              "count  2.000000e+04   20000.000000  20000.000000      20000.00000   \n",
              "mean   5.707366e+09   90272.814350   5416.631600          0.02075   \n",
              "std    5.151766e+09   69644.353597   4025.878106          0.14255   \n",
              "min    0.000000e+00     115.000000      0.000000          0.00000   \n",
              "25%    1.535160e+09   24418.000000   2081.000000          0.00000   \n",
              "50%    4.578822e+09   91216.000000   5263.000000          0.00000   \n",
              "75%    8.577729e+09  141455.000000   7744.250000          0.00000   \n",
              "max    4.375822e+10  220268.000000  32736.000000          1.00000   \n",
              "\n",
              "       task_container_id   user_answer  answered_correctly  \\\n",
              "count       20000.000000  20000.000000        20000.000000   \n",
              "mean         1158.101250      1.390850            0.649900   \n",
              "std          1265.240323      1.196728            0.518694   \n",
              "min             0.000000     -1.000000           -1.000000   \n",
              "25%           251.000000      0.000000            0.000000   \n",
              "50%           715.000000      1.000000            1.000000   \n",
              "75%          1405.250000      3.000000            1.000000   \n",
              "max          4889.000000      3.000000            1.000000   \n",
              "\n",
              "       prior_question_elapsed_time  \n",
              "count                 19542.000000  \n",
              "mean                  24261.523744  \n",
              "std                   15499.427882  \n",
              "min                     333.000000  \n",
              "25%                   16000.000000  \n",
              "50%                   21000.000000  \n",
              "75%                   28000.000000  \n",
              "max                  300000.000000  "
            ]
          },
          "execution_count": 34,
          "metadata": {},
          "output_type": "execute_result"
        }
      ],
      "source": [
        "train.describe()"
      ]
    },
    {
      "cell_type": "markdown",
      "id": "fb78cf00",
      "metadata": {
        "id": "fb78cf00"
      },
      "source": [
        "### Сколько студентов?"
      ]
    },
    {
      "cell_type": "code",
      "execution_count": null,
      "id": "ae637772",
      "metadata": {
        "id": "ae637772",
        "outputId": "2501c209-76a1-45e8-d01e-b4959de6ca87"
      },
      "outputs": [
        {
          "data": {
            "text/plain": [
              "393656"
            ]
          },
          "execution_count": 251,
          "metadata": {},
          "output_type": "execute_result"
        }
      ],
      "source": [
        "len(train['user_id'].unique()) # всего данные собраны от 393656 студентах"
      ]
    },
    {
      "cell_type": "markdown",
      "id": "0f1b2853",
      "metadata": {
        "id": "0f1b2853"
      },
      "source": [
        "### Процент лекций и задач"
      ]
    },
    {
      "cell_type": "code",
      "execution_count": null,
      "id": "7286567c",
      "metadata": {
        "id": "7286567c",
        "outputId": "fca6f3e9-62e0-43d6-c482-8ce8f3fbbd36"
      },
      "outputs": [
        {
          "data": {
            "image/png": "[encoded data removed]",
            "text/plain": [
              "<Figure size 432x288 with 1 Axes>"
            ]
          },
          "metadata": {},
          "output_type": "display_data"
        }
      ],
      "source": [
        "_ = train['content_type_id'].value_counts().plot.pie(autopct='%1.1f%%', title='Процент лекций и задач',\n",
        "                                                labels=[\"Лекции\", \"Задачи\"], ylabel=\"\")"
      ]
    },
    {
      "cell_type": "markdown",
      "id": "d2d1e6b5",
      "metadata": {
        "id": "d2d1e6b5"
      },
      "source": [
        "Подавляющее большинство записей о задачах"
      ]
    },
    {
      "cell_type": "markdown",
      "id": "9986af95",
      "metadata": {
        "id": "9986af95"
      },
      "source": [
        "### Процент правильных ответов"
      ]
    },
    {
      "cell_type": "code",
      "execution_count": null,
      "id": "f26f4618",
      "metadata": {
        "id": "f26f4618",
        "outputId": "3087816a-bc6c-44db-f7bd-ece5ba956c3b"
      },
      "outputs": [
        {
          "data": {
            "image/png": "[encoded data removed]",
            "text/plain": [
              "<Figure size 432x288 with 1 Axes>"
            ]
          },
          "metadata": {},
          "output_type": "display_data"
        }
      ],
      "source": [
        "_ = train[train['answered_correctly'] != -1]['answered_correctly'].value_counts().plot.pie(autopct='%1.1f%%', title='Процент лекций и задач',\n",
        "                                                labels=[\"Верные ответы\", \"Ошибки\"], ylabel=\"\")"
      ]
    },
    {
      "cell_type": "markdown",
      "id": "dfafdc3f",
      "metadata": {
        "id": "dfafdc3f"
      },
      "source": [
        "Две трети ответов были верными. Посмотрим, как этот показатель будет менятьья в зависимости от разных параметров"
      ]
    },
    {
      "cell_type": "markdown",
      "id": "87703282",
      "metadata": {
        "id": "87703282"
      },
      "source": [
        "### Время"
      ]
    },
    {
      "cell_type": "markdown",
      "id": "a130b25b",
      "metadata": {
        "id": "a130b25b"
      },
      "source": [
        "1. Посмотрим частотное распределение времени между действием и первым завершением события"
      ]
    },
    {
      "cell_type": "code",
      "execution_count": null,
      "id": "7604992c",
      "metadata": {
        "id": "7604992c",
        "outputId": "ef084354-4127-4207-9b5b-66c7a6a2f398"
      },
      "outputs": [
        {
          "data": {
            "text/plain": [
              "<AxesSubplot:>"
            ]
          },
          "execution_count": 237,
          "metadata": {},
          "output_type": "execute_result"
        },
        {
          "data": {
            "image/png": "[encoded data removed]",
            "text/plain": [
              "<Figure size 432x288 with 1 Axes>"
            ]
          },
          "metadata": {
            "needs_background": "light"
          },
          "output_type": "display_data"
        }
      ],
      "source": [
        "train['timestamp'].hist(bins=40) "
      ]
    },
    {
      "cell_type": "markdown",
      "id": "f9d0efb6",
      "metadata": {
        "id": "f9d0efb6"
      },
      "source": [
        "Есть единичные случаи реагирования > 2 * 10^10 мс. В основном значения до 2*10^10 мс, что примерно равно 33 недели или 231 день. Большая часть данных лежит в 25% процентиле "
      ]
    },
    {
      "cell_type": "markdown",
      "id": "5896fada",
      "metadata": {
        "id": "5896fada"
      },
      "source": [
        "2. Посмотрим частотное распределение времени, затрачиваемого на решение каждого вопроса  из предыдущей группы вопросов, без учета промежуточных лекций. Исключим null"
      ]
    },
    {
      "cell_type": "code",
      "execution_count": null,
      "id": "d18f6a91",
      "metadata": {
        "id": "d18f6a91",
        "outputId": "78e4736a-b661-4173-df56-f2c9c9c22e9b"
      },
      "outputs": [
        {
          "data": {
            "text/plain": [
              "<AxesSubplot:>"
            ]
          },
          "execution_count": 238,
          "metadata": {},
          "output_type": "execute_result"
        },
        {
          "data": {
            "image/png": "[encoded data removed]",
            "text/plain": [
              "<Figure size 432x288 with 1 Axes>"
            ]
          },
          "metadata": {
            "needs_background": "light"
          },
          "output_type": "display_data"
        }
      ],
      "source": [
        "train['prior_question_elapsed_time'].dropna().hist(bins=40) "
      ]
    },
    {
      "cell_type": "markdown",
      "id": "5c1e8d54",
      "metadata": {
        "id": "5c1e8d54"
      },
      "source": [
        "Здесь уже что-то похожее на скошенное нормальное распределение. Вероятно, из-за того, что студенты задумывались над ответами. И порядок данных совсем другой, большинство до 100 000 мс, что примерно 100 секунд и 1,6 минут"
      ]
    },
    {
      "cell_type": "markdown",
      "id": "858ee1b1",
      "metadata": {
        "id": "858ee1b1"
      },
      "source": [
        "## Гипотеза 1. \n",
        "Время, которое студенты тратят на ответ взаимосвязано с правильностью ответа. Построим нормированную гистограмму"
      ]
    },
    {
      "cell_type": "code",
      "execution_count": null,
      "id": "569ee336",
      "metadata": {
        "scrolled": true,
        "id": "569ee336",
        "outputId": "bc757b5e-46e8-40d3-9076-c966399bcb6c"
      },
      "outputs": [
        {
          "data": {
            "text/plain": [
              "Text(0.5, 1.0, 'Ошибочные ответы')"
            ]
          },
          "execution_count": 242,
          "metadata": {},
          "output_type": "execute_result"
        },
        {
          "data": {
            "image/png": "[encoded data removed]",
            "text/plain": [
              "<Figure size 1080x288 with 2 Axes>"
            ]
          },
          "metadata": {
            "needs_background": "light"
          },
          "output_type": "display_data"
        }
      ],
      "source": [
        "fig, ax = plt.subplots(1, 2, figsize=(15,4))\n",
        "\n",
        "train[train['answered_correctly'] == 1]['prior_question_elapsed_time'].dropna().hist(bins=50, \n",
        "                                                                                     density=True, \n",
        "                                                                                     ax=ax[0])\n",
        "train[train['answered_correctly'] == 0]['prior_question_elapsed_time'].dropna().hist(bins=50, \n",
        "                                                                                     density=True, \n",
        "                                                                                     ax=ax[1]) \n",
        "\n",
        "ax[0].set_title(\"Верные ответы\")\n",
        "ax[1].set_title(\"Ошибочные ответы\")"
      ]
    },
    {
      "cell_type": "markdown",
      "id": "fc43f840",
      "metadata": {
        "id": "fc43f840"
      },
      "source": [
        "Распределения похожи, но пик распределения с верными ответами превышает 4*10^-5, чего нельзя сказать о распределении с ошибочными ответами. Вероятно, над правильными ответами чаще думали дольше. Посмотрим средние:"
      ]
    },
    {
      "cell_type": "code",
      "execution_count": null,
      "id": "870cc897",
      "metadata": {
        "id": "870cc897",
        "outputId": "3ecbd2cb-e490-4ca4-e552-f3507c35e42c"
      },
      "outputs": [
        {
          "data": {
            "text/html": [
              "<div>\n",
              "<style scoped>\n",
              "    .dataframe tbody tr th:only-of-type {\n",
              "        vertical-align: middle;\n",
              "    }\n",
              "\n",
              "    .dataframe tbody tr th {\n",
              "        vertical-align: top;\n",
              "    }\n",
              "\n",
              "    .dataframe thead th {\n",
              "        text-align: right;\n",
              "    }\n",
              "</style>\n",
              "<table border=\"1\" class=\"dataframe\">\n",
              "  <thead>\n",
              "    <tr style=\"text-align: right;\">\n",
              "      <th></th>\n",
              "      <th>Верные</th>\n",
              "      <th>Ошибочные</th>\n",
              "    </tr>\n",
              "  </thead>\n",
              "  <tbody>\n",
              "    <tr>\n",
              "      <th>mean</th>\n",
              "      <td>25309.977185</td>\n",
              "      <td>25641.991586</td>\n",
              "    </tr>\n",
              "    <tr>\n",
              "      <th>median</th>\n",
              "      <td>21000.000000</td>\n",
              "      <td>21000.000000</td>\n",
              "    </tr>\n",
              "  </tbody>\n",
              "</table>\n",
              "</div>"
            ],
            "text/plain": [
              "              Верные     Ошибочные\n",
              "mean    25309.977185  25641.991586\n",
              "median  21000.000000  21000.000000"
            ]
          },
          "execution_count": 287,
          "metadata": {},
          "output_type": "execute_result"
        }
      ],
      "source": [
        "pd.DataFrame({\"Верные\":\n",
        "                train[train['answered_correctly'] == 1]['prior_question_elapsed_time'].dropna().agg(['mean', 'median']),\n",
        "              \"Ошибочные\":\n",
        "                train[train['answered_correctly'] == 0]['prior_question_elapsed_time'].dropna().agg(['mean', 'median'])\n",
        "             })"
      ]
    },
    {
      "cell_type": "markdown",
      "id": "df1dbb64",
      "metadata": {
        "id": "df1dbb64"
      },
      "source": [
        "Медианы совпадают, среднее время правильных ответов меньше, чем неправильных. Требутеся более глубокий анализ"
      ]
    },
    {
      "cell_type": "markdown",
      "id": "fe156aa2",
      "metadata": {
        "id": "fe156aa2"
      },
      "source": [
        "## Гипотеза 2. \n",
        "Время между действием и первым завершением события имеет зависимость с правильностью ответа"
      ]
    },
    {
      "cell_type": "code",
      "execution_count": null,
      "id": "afecf402",
      "metadata": {
        "id": "afecf402",
        "outputId": "0ce241e7-795e-4a9e-c9a4-31cd44354804"
      },
      "outputs": [
        {
          "data": {
            "text/plain": [
              "Text(0.5, 1.0, 'Ошибочные ответы')"
            ]
          },
          "execution_count": 243,
          "metadata": {},
          "output_type": "execute_result"
        },
        {
          "data": {
            "image/png": "[encoded data removed]",
            "text/plain": [
              "<Figure size 1080x288 with 2 Axes>"
            ]
          },
          "metadata": {
            "needs_background": "light"
          },
          "output_type": "display_data"
        }
      ],
      "source": [
        "fig, ax = plt.subplots(1, 2, figsize=(15,4))\n",
        "\n",
        "train[train['answered_correctly'] == 1]['timestamp'].dropna().hist(bins=50, \n",
        "                                                                   density=True, \n",
        "                                                                   ax=ax[0])\n",
        "train[train['answered_correctly'] == 0]['timestamp'].dropna().hist(bins=50, \n",
        "                                                                   density=True, \n",
        "                                                                   ax=ax[1]) \n",
        "\n",
        "ax[0].set_title(\"Верные ответы\")\n",
        "ax[1].set_title(\"Ошибочные ответы\")"
      ]
    },
    {
      "cell_type": "markdown",
      "id": "139df357",
      "metadata": {
        "id": "139df357"
      },
      "source": [
        "Распределения похожи. Но для верных ответов время реже распределено около 0 секунд и чаще около отметки 0.5 * 10^10"
      ]
    },
    {
      "cell_type": "markdown",
      "id": "b57b3596",
      "metadata": {
        "id": "b57b3596"
      },
      "source": [
        "## Гипотеза 3.\n",
        "Может, если предыдущий вопрос имел обяснение, то правильных ответов больше?"
      ]
    },
    {
      "cell_type": "code",
      "execution_count": null,
      "id": "b9e5ca0f",
      "metadata": {
        "id": "b9e5ca0f",
        "outputId": "edc0a04b-154a-45b1-f6aa-50ad48376642"
      },
      "outputs": [
        {
          "data": {
            "text/plain": [
              "Text(0.5, 1.0, 'Объяснения не было')"
            ]
          },
          "execution_count": 245,
          "metadata": {},
          "output_type": "execute_result"
        },
        {
          "data": {
            "image/png": "[encoded data removed]",
            "text/plain": [
              "<Figure size 1080x288 with 2 Axes>"
            ]
          },
          "metadata": {},
          "output_type": "display_data"
        }
      ],
      "source": [
        "fig, ax = plt.subplots(1, 2, figsize=(15,4))\n",
        "\n",
        "had_exp_true = train[(train['prior_question_had_explanation'] == True) & \n",
        "                     (train['answered_correctly'] != -1)]['answered_correctly']\n",
        "had_exp_true.value_counts(normalize=True).plot.pie(autopct='%1.1f%%',\n",
        "                                                   ylabel=\"\", \n",
        "                                                   labels=[\"Верные ответы\", \"Ошибки\"],\n",
        "                                                   ax=ax[0])\n",
        "\n",
        "had_exp_false = train[(train['prior_question_had_explanation'] == False) & \n",
        "                       (train['answered_correctly'] != -1)]['answered_correctly']\n",
        "had_exp_false.value_counts(normalize=True).plot.pie(autopct='%1.1f%%',\n",
        "                                                    ylabel=\"\",\n",
        "                                                    labels=[\"Верные ответы\", \"Ошибки\"],\n",
        "                                                    ax=ax[1]) \n",
        "\n",
        "#fig.suptitle(\"Зависимость доли верных ответов от\\nобъяснения предыдущего вопроса\", fontweight='bold', size=20)\n",
        "ax[0].set_title(\"Объяснение было\")\n",
        "ax[1].set_title(\"Объяснения не было\")"
      ]
    },
    {
      "cell_type": "markdown",
      "id": "d34c8ce3",
      "metadata": {
        "id": "d34c8ce3"
      },
      "source": [
        "Да, похоже, эта гипотеза верна"
      ]
    },
    {
      "cell_type": "markdown",
      "id": "71fec03e",
      "metadata": {
        "id": "71fec03e"
      },
      "source": [
        "### На какие вопросы студенты чаще отвечали и какие лекции чаще просматривали"
      ]
    },
    {
      "cell_type": "code",
      "execution_count": null,
      "id": "b1e85de5",
      "metadata": {
        "id": "b1e85de5",
        "outputId": "34ec1338-0525-404c-8c80-e9cdc3fdab64"
      },
      "outputs": [
        {
          "data": {
            "text/plain": [
              "Text(0.5, 1.0, 'Лекции')"
            ]
          },
          "execution_count": 298,
          "metadata": {},
          "output_type": "execute_result"
        },
        {
          "data": {
            "image/png": "[encoded data removed]",
            "text/plain": [
              "<Figure size 1080x288 with 2 Axes>"
            ]
          },
          "metadata": {
            "needs_background": "light"
          },
          "output_type": "display_data"
        }
      ],
      "source": [
        "fig, ax = plt.subplots(1, 2, figsize=(15,4))\n",
        "\n",
        "# возьмем только задачи, посчитаем частотности и выберем топ-10\n",
        "ques = train[train['content_type_id'] == 0]['content_id'].value_counts().iloc[:10]\n",
        "ques.plot.barh(ax=ax[0])\n",
        "\n",
        "\n",
        "# возьмем только лекции, посчитаем частотности и выберем топ-10\n",
        "ans = train[train['content_type_id'] == 1]['content_id'].value_counts().iloc[:10]\n",
        "ans.plot.barh(ax=ax[1]) \n",
        "\n",
        "#fig.suptitle(\"Зависимость доли верных ответов от\\nобъяснения предыдущего вопроса\", fontweight='bold', size=20)\n",
        "ax[0].set_title(\"Задания\")\n",
        "ax[1].set_title(\"Лекции\")"
      ]
    },
    {
      "cell_type": "markdown",
      "id": "3a1f8fea",
      "metadata": {
        "id": "3a1f8fea"
      },
      "source": [
        "- вообще, отвечают на задания студенты существенно чаще, чем просматривают лекции"
      ]
    },
    {
      "cell_type": "markdown",
      "id": "691f0e38",
      "metadata": {
        "id": "691f0e38"
      },
      "source": [
        "### В каких вопросах чаще ошибались/не ошибались"
      ]
    },
    {
      "cell_type": "code",
      "execution_count": null,
      "id": "7a4a9195",
      "metadata": {
        "id": "7a4a9195",
        "outputId": "4f47fa19-b874-4cb5-ef4c-dd51eceaabac"
      },
      "outputs": [
        {
          "data": {
            "text/plain": [
              "Text(0.5, 1.0, 'Ошибочные ответы')"
            ]
          },
          "execution_count": 334,
          "metadata": {},
          "output_type": "execute_result"
        },
        {
          "data": {
            "image/png": "[encoded data removed]",
            "text/plain": [
              "<Figure size 1080x288 with 2 Axes>"
            ]
          },
          "metadata": {
            "needs_background": "light"
          },
          "output_type": "display_data"
        }
      ],
      "source": [
        "fig, ax = plt.subplots(1, 2, figsize=(15,4))\n",
        "\n",
        "# выберем вопросы, на которые давали верные ответы\n",
        "correct_answered = train[(train['content_type_id'] == 0) & (train['answered_correctly'] == 1)]\n",
        "\n",
        "# выберем топ-10 вопросов, на которые чаще всего давали правильные ответы\n",
        "correct_answered['content_id'].value_counts().iloc[:10].plot.barh(ax=ax[0])\n",
        "\n",
        "\n",
        "# выберем вопросы, на которые давали ошибочные ответы\n",
        "incorrect_answered = train[(train['content_type_id'] == 0) & (train['answered_correctly'] == 0)]\n",
        "\n",
        "# выберем топ-10 вопросов, в которых чаще всего ошибались\n",
        "incorrect_answered['content_id'].value_counts().iloc[:10].plot.barh(ax=ax[1]) \n",
        "\n",
        "#fig.suptitle(\"Зависимость доли верных ответов от\\nобъяснения предыдущего вопроса\", fontweight='bold', size=20)\n",
        "ax[0].set_title(\"Верные ответы\")\n",
        "ax[1].set_title(\"Ошибочные ответы\")"
      ]
    },
    {
      "cell_type": "markdown",
      "id": "46cb2d1c",
      "metadata": {
        "id": "46cb2d1c"
      },
      "source": [
        "- Вопросы с id **7900** (топ-1 в верных ответах) и **6116** (топ-1 в ошибочных ответах) оба встречаются в топе вопросов, на которые студенты отвечали\n",
        "- Вопрос **6116** и топ-1 среди частых ответов, и топ-1 среди частых ошибок\n",
        "- В целом, похоже, студенты чаще ошибаются6 чем дают верные ответы"
      ]
    },
    {
      "cell_type": "markdown",
      "id": "f76691c9",
      "metadata": {
        "id": "f76691c9"
      },
      "source": [
        "Посмотрим еще пересечения среди частых ответов и частых **правильных** ответов"
      ]
    },
    {
      "cell_type": "code",
      "execution_count": null,
      "id": "2dce753f",
      "metadata": {
        "id": "2dce753f",
        "outputId": "4a604693-8607-4e0f-93b2-9d9292311600"
      },
      "outputs": [
        {
          "data": {
            "text/plain": [
              "{2064, 2065, 7900}"
            ]
          },
          "execution_count": 343,
          "metadata": {},
          "output_type": "execute_result"
        }
      ],
      "source": [
        "set(ques.index) & set(correct_answered['content_id'].value_counts().iloc[:10].index)"
      ]
    },
    {
      "cell_type": "markdown",
      "id": "b09badb6",
      "metadata": {
        "id": "b09badb6"
      },
      "source": [
        "И среди частых ответов и частых **ошибочных** ответов"
      ]
    },
    {
      "cell_type": "code",
      "execution_count": null,
      "id": "190b3536",
      "metadata": {
        "id": "190b3536",
        "outputId": "5245354d-f1b4-4035-a2bb-2dd96aaf420d"
      },
      "outputs": [
        {
          "data": {
            "text/plain": [
              "{175, 2063, 4120, 6116, 6173}"
            ]
          },
          "execution_count": 345,
          "metadata": {},
          "output_type": "execute_result"
        }
      ],
      "source": [
        "set(ques.index) & set(incorrect_answered['content_id'].value_counts().iloc[:10].index)"
      ]
    },
    {
      "cell_type": "markdown",
      "id": "852e59c3",
      "metadata": {
        "id": "852e59c3"
      },
      "source": [
        "- Наиболее частые ошибочные ответы составляют половину топа самых частых ответов"
      ]
    },
    {
      "cell_type": "markdown",
      "id": "2789696b",
      "metadata": {
        "id": "2789696b"
      },
      "source": [
        "## Сгруппируем по студентам"
      ]
    },
    {
      "cell_type": "markdown",
      "id": "b7caf4fb",
      "metadata": {
        "id": "b7caf4fb"
      },
      "source": [
        "Проанализируем следующие разрезы:\n",
        "- кол-во просмотренных лекций/успеваемость\n",
        "- соответствие юзер/доля правильных ответов\n",
        "\n",
        "Будем анализировать именно долю правильных ответов"
      ]
    },
    {
      "cell_type": "markdown",
      "id": "a95c29bb",
      "metadata": {
        "id": "a95c29bb"
      },
      "source": [
        "Создадим матрицу со следующими столбцами:\n",
        "- студент, \n",
        "- доля правильных ответов, \n",
        "- кол-во просмотренных лекций, \n",
        "- среднее время1 и среднее время2"
      ]
    },
    {
      "cell_type": "code",
      "execution_count": null,
      "id": "f5eecefc",
      "metadata": {
        "id": "f5eecefc",
        "outputId": "a8e02ee4-cc88-4d3f-b87b-61ed9eb7214b"
      },
      "outputs": [
        {
          "data": {
            "text/html": [
              "<div>\n",
              "<style scoped>\n",
              "    .dataframe tbody tr th:only-of-type {\n",
              "        vertical-align: middle;\n",
              "    }\n",
              "\n",
              "    .dataframe tbody tr th {\n",
              "        vertical-align: top;\n",
              "    }\n",
              "\n",
              "    .dataframe thead th {\n",
              "        text-align: right;\n",
              "    }\n",
              "</style>\n",
              "<table border=\"1\" class=\"dataframe\">\n",
              "  <thead>\n",
              "    <tr style=\"text-align: right;\">\n",
              "      <th></th>\n",
              "      <th>percentage_of_correct</th>\n",
              "      <th>amount_of_lects</th>\n",
              "      <th>mean_prior_time</th>\n",
              "      <th>mean_timestamp</th>\n",
              "    </tr>\n",
              "    <tr>\n",
              "      <th>user_id</th>\n",
              "      <th></th>\n",
              "      <th></th>\n",
              "      <th></th>\n",
              "      <th></th>\n",
              "    </tr>\n",
              "  </thead>\n",
              "  <tbody>\n",
              "    <tr>\n",
              "      <th>115</th>\n",
              "      <td>0.695652</td>\n",
              "      <td>0</td>\n",
              "      <td>19933.311111</td>\n",
              "      <td>1.021248e+08</td>\n",
              "    </tr>\n",
              "    <tr>\n",
              "      <th>124</th>\n",
              "      <td>0.233333</td>\n",
              "      <td>0</td>\n",
              "      <td>18793.000000</td>\n",
              "      <td>3.678599e+05</td>\n",
              "    </tr>\n",
              "    <tr>\n",
              "      <th>2746</th>\n",
              "      <td>0.578947</td>\n",
              "      <td>1</td>\n",
              "      <td>18055.555556</td>\n",
              "      <td>3.831790e+05</td>\n",
              "    </tr>\n",
              "    <tr>\n",
              "      <th>5382</th>\n",
              "      <td>0.672000</td>\n",
              "      <td>3</td>\n",
              "      <td>36048.387097</td>\n",
              "      <td>3.801312e+08</td>\n",
              "    </tr>\n",
              "    <tr>\n",
              "      <th>8623</th>\n",
              "      <td>0.642202</td>\n",
              "      <td>3</td>\n",
              "      <td>26107.407407</td>\n",
              "      <td>3.479882e+08</td>\n",
              "    </tr>\n",
              "    <tr>\n",
              "      <th>...</th>\n",
              "      <td>...</td>\n",
              "      <td>...</td>\n",
              "      <td>...</td>\n",
              "      <td>...</td>\n",
              "    </tr>\n",
              "    <tr>\n",
              "      <th>2147470770</th>\n",
              "      <td>0.765487</td>\n",
              "      <td>2</td>\n",
              "      <td>23167.382222</td>\n",
              "      <td>1.145336e+09</td>\n",
              "    </tr>\n",
              "    <tr>\n",
              "      <th>2147470777</th>\n",
              "      <td>0.691489</td>\n",
              "      <td>6</td>\n",
              "      <td>20028.103862</td>\n",
              "      <td>1.140314e+10</td>\n",
              "    </tr>\n",
              "    <tr>\n",
              "      <th>2147481750</th>\n",
              "      <td>0.760000</td>\n",
              "      <td>0</td>\n",
              "      <td>17938.775510</td>\n",
              "      <td>2.195088e+07</td>\n",
              "    </tr>\n",
              "    <tr>\n",
              "      <th>2147482216</th>\n",
              "      <td>0.643636</td>\n",
              "      <td>5</td>\n",
              "      <td>19562.043796</td>\n",
              "      <td>8.583999e+08</td>\n",
              "    </tr>\n",
              "    <tr>\n",
              "      <th>2147482888</th>\n",
              "      <td>0.555556</td>\n",
              "      <td>0</td>\n",
              "      <td>27192.307692</td>\n",
              "      <td>2.658027e+08</td>\n",
              "    </tr>\n",
              "  </tbody>\n",
              "</table>\n",
              "<p>393656 rows × 4 columns</p>\n",
              "</div>"
            ],
            "text/plain": [
              "            percentage_of_correct  amount_of_lects  mean_prior_time  \\\n",
              "user_id                                                               \n",
              "115                      0.695652                0     19933.311111   \n",
              "124                      0.233333                0     18793.000000   \n",
              "2746                     0.578947                1     18055.555556   \n",
              "5382                     0.672000                3     36048.387097   \n",
              "8623                     0.642202                3     26107.407407   \n",
              "...                           ...              ...              ...   \n",
              "2147470770               0.765487                2     23167.382222   \n",
              "2147470777               0.691489                6     20028.103862   \n",
              "2147481750               0.760000                0     17938.775510   \n",
              "2147482216               0.643636                5     19562.043796   \n",
              "2147482888               0.555556                0     27192.307692   \n",
              "\n",
              "            mean_timestamp  \n",
              "user_id                     \n",
              "115           1.021248e+08  \n",
              "124           3.678599e+05  \n",
              "2746          3.831790e+05  \n",
              "5382          3.801312e+08  \n",
              "8623          3.479882e+08  \n",
              "...                    ...  \n",
              "2147470770    1.145336e+09  \n",
              "2147470777    1.140314e+10  \n",
              "2147481750    2.195088e+07  \n",
              "2147482216    8.583999e+08  \n",
              "2147482888    2.658027e+08  \n",
              "\n",
              "[393656 rows x 4 columns]"
            ]
          },
          "execution_count": 445,
          "metadata": {},
          "output_type": "execute_result"
        }
      ],
      "source": [
        "pivot = pd.pivot_table(train, \n",
        "               index='user_id',\n",
        "               values=['answered_correctly', 'content_type_id', 'timestamp', 'prior_question_elapsed_time'],\n",
        "               aggfunc={'answered_correctly': [ # доля правильных ответов, ислючая лекции \n",
        "                                               lambda x: np.sum(np.where(x==1,x, 0)) / np.sum(np.where(x!=-1,1, 0))\n",
        "                                              ],\n",
        "                        'content_type_id': np.sum,\n",
        "                        'timestamp': np.mean,\n",
        "                        'prior_question_elapsed_time': np.mean\n",
        "                       }\n",
        "              )\n",
        "\n",
        "pivot = pd.DataFrame({\"percentage_of_correct\": pivot[\"answered_correctly\"][\"<lambda>\"],\n",
        "              \"amount_of_lects\": pivot[\"content_type_id\"][\"sum\"],\n",
        "              \"mean_prior_time\": pivot[\"prior_question_elapsed_time\"][\"mean\"],\n",
        "              \"mean_timestamp\": pivot[\"timestamp\"][\"mean\"],\n",
        "             })\n",
        "\n",
        "pivot"
      ]
    },
    {
      "cell_type": "markdown",
      "id": "5116f693",
      "metadata": {
        "id": "5116f693"
      },
      "source": [
        "### Распределение по количествам лекций"
      ]
    },
    {
      "cell_type": "code",
      "execution_count": null,
      "id": "57990c0a",
      "metadata": {
        "id": "57990c0a",
        "outputId": "917add16-1b9e-42af-d249-7c16f559ae51"
      },
      "outputs": [
        {
          "data": {
            "text/plain": [
              "0      244050\n",
              "1       39154\n",
              "2       18909\n",
              "3       11736\n",
              "4        8564\n",
              "        ...  \n",
              "389         1\n",
              "287         1\n",
              "244         1\n",
              "237         1\n",
              "331         1\n",
              "Name: amount_of_lects, Length: 293, dtype: int64"
            ]
          },
          "execution_count": 446,
          "metadata": {},
          "output_type": "execute_result"
        }
      ],
      "source": [
        "pivot[\"amount_of_lects\"].value_counts()"
      ]
    },
    {
      "cell_type": "markdown",
      "id": "6502d30a",
      "metadata": {
        "id": "6502d30a"
      },
      "source": [
        "- Больше 60% (244050 человек) людей не посмотрели ни одной лекции\n",
        "- Никто не просмотрел абсолютно все лекции (всего лекций 418, это можно увидеть в разделе lectures - лекции)\n"
      ]
    },
    {
      "cell_type": "markdown",
      "id": "5f72ef24",
      "metadata": {
        "id": "5f72ef24"
      },
      "source": [
        "### Зависимость доли правильных ответов от количества просмотренных лекций"
      ]
    },
    {
      "cell_type": "code",
      "execution_count": null,
      "id": "4b22c18b",
      "metadata": {
        "id": "4b22c18b",
        "outputId": "0f6a2c60-3ea5-4028-def0-790fcae26427"
      },
      "outputs": [
        {
          "data": {
            "text/plain": [
              "<AxesSubplot:xlabel='amount_of_lects', ylabel='percentage_of_correct'>"
            ]
          },
          "execution_count": 250,
          "metadata": {},
          "output_type": "execute_result"
        },
        {
          "data": {
            "image/png": "[encoded data removed]",
            "text/plain": [
              "<Figure size 432x288 with 1 Axes>"
            ]
          },
          "metadata": {
            "needs_background": "light"
          },
          "output_type": "display_data"
        }
      ],
      "source": [
        "sns.scatterplot(data=pivot, x=\"amount_of_lects\", y=\"percentage_of_correct\", alpha=0.5)"
      ]
    },
    {
      "cell_type": "markdown",
      "id": "98a43eb2",
      "metadata": {
        "id": "98a43eb2"
      },
      "source": [
        "- У большинства из тех, кто просмотрел больше 0 лекций доля правильных ответов выше 20% (остальное похоже на выбросы)\n",
        "- Общая тендеция такова: чем больше просмотрено лекций, тем выше доля правильных ответов, однако есть выбросы\n",
        "- Cреди тех, кто посмотрел хотя бы одну лекцию успеваемость в основном выше 50%"
      ]
    },
    {
      "cell_type": "markdown",
      "id": "3e80bf97",
      "metadata": {
        "id": "3e80bf97"
      },
      "source": [
        "### Данных очень много, объединим их в категории"
      ]
    },
    {
      "cell_type": "code",
      "execution_count": null,
      "id": "f0987251",
      "metadata": {
        "id": "f0987251"
      },
      "outputs": [],
      "source": [
        "def get_cat(x):\n",
        "    if x <= 5:\n",
        "        return \"0-5\"\n",
        "    elif x <= 10:\n",
        "        return \"6-10\"\n",
        "    elif x <= 50:\n",
        "        return \"11-50\"\n",
        "    elif x <= 100:\n",
        "        return \"51-100\"\n",
        "    else: \n",
        "        return \"151-\"\n",
        "\n",
        "pivot[\"lects_amount_cat\"] = pivot[\"amount_of_lects\"].apply(lambda x: get_cat(x))"
      ]
    },
    {
      "cell_type": "code",
      "execution_count": null,
      "id": "73ae3a99",
      "metadata": {
        "id": "73ae3a99",
        "outputId": "aa5b1f40-ada8-4513-bd8a-3866c806ef63"
      },
      "outputs": [
        {
          "data": {
            "text/plain": [
              "0-5       329037\n",
              "11-50      35581\n",
              "6-10       19975\n",
              "51-100      6617\n",
              "151-        2446\n",
              "Name: lects_amount_cat, dtype: int64"
            ]
          },
          "execution_count": 466,
          "metadata": {},
          "output_type": "execute_result"
        }
      ],
      "source": [
        "pivot[\"lects_amount_cat\"].value_counts()"
      ]
    },
    {
      "cell_type": "code",
      "execution_count": null,
      "id": "781b8c79",
      "metadata": {
        "id": "781b8c79"
      },
      "outputs": [],
      "source": [
        "sorted_lects_amount_cat = pivot[\"lects_amount_cat\"].value_counts().sort_values(ascending=False)"
      ]
    },
    {
      "cell_type": "code",
      "execution_count": null,
      "id": "2e420fd6",
      "metadata": {
        "id": "2e420fd6",
        "outputId": "7d9d086c-4839-467b-f425-26aadeb3e38f"
      },
      "outputs": [
        {
          "data": {
            "text/plain": [
              "0-5       329037\n",
              "11-50      35581\n",
              "6-10       19975\n",
              "51-100      6617\n",
              "151-        2446\n",
              "Name: lects_amount_cat, dtype: int64"
            ]
          },
          "execution_count": 470,
          "metadata": {},
          "output_type": "execute_result"
        }
      ],
      "source": [
        "sorted_lects_amount_cat"
      ]
    },
    {
      "cell_type": "code",
      "execution_count": null,
      "id": "9eb30d9a",
      "metadata": {
        "id": "9eb30d9a",
        "outputId": "791dd430-a315-4a59-83dc-60371e55b139"
      },
      "outputs": [
        {
          "data": {
            "text/plain": [
              "<AxesSubplot:xlabel='lects_amount_cat', ylabel='percentage_of_correct'>"
            ]
          },
          "execution_count": 471,
          "metadata": {},
          "output_type": "execute_result"
        },
        {
          "data": {
            "image/png": "[encoded data removed]",
            "text/plain": [
              "<Figure size 432x288 with 1 Axes>"
            ]
          },
          "metadata": {
            "needs_background": "light"
          },
          "output_type": "display_data"
        }
      ],
      "source": [
        "sns.boxplot(data=pivot, x=\"lects_amount_cat\", y=\"percentage_of_correct\")"
      ]
    },
    {
      "cell_type": "markdown",
      "id": "c8e06cb5",
      "metadata": {
        "id": "c8e06cb5"
      },
      "source": [
        "- С ростом количества просмотренных лекций растет средняя доля правильных ответов"
      ]
    },
    {
      "cell_type": "markdown",
      "id": "c366bdc1",
      "metadata": {
        "id": "c366bdc1"
      },
      "source": [
        "# questions - задания"
      ]
    },
    {
      "cell_type": "markdown",
      "id": "89288163",
      "metadata": {
        "id": "89288163"
      },
      "source": [
        "- **question_id:** связка для content_id column в train\n",
        "- **bundle_id:** код вопроса, с которым задаются вместе(?) code for which questions are served together. \n",
        "- **correct_answer:** правильный ответ \n",
        "- **part:** соответствующий раздел теста TOEIC - будем считать, что это модули\n",
        "- **tags:** теги вопросов"
      ]
    },
    {
      "cell_type": "code",
      "execution_count": null,
      "id": "5dbaeae3",
      "metadata": {
        "id": "5dbaeae3"
      },
      "outputs": [],
      "source": [
        "questions = pd.read_csv(\"riiid-test-answer-prediction/questions.csv\")"
      ]
    },
    {
      "cell_type": "code",
      "execution_count": null,
      "id": "a5a63994",
      "metadata": {
        "id": "a5a63994",
        "outputId": "94a9e8a3-fb8d-4e5e-873d-59ee8f22023c"
      },
      "outputs": [
        {
          "data": {
            "text/html": [
              "<div>\n",
              "<style scoped>\n",
              "    .dataframe tbody tr th:only-of-type {\n",
              "        vertical-align: middle;\n",
              "    }\n",
              "\n",
              "    .dataframe tbody tr th {\n",
              "        vertical-align: top;\n",
              "    }\n",
              "\n",
              "    .dataframe thead th {\n",
              "        text-align: right;\n",
              "    }\n",
              "</style>\n",
              "<table border=\"1\" class=\"dataframe\">\n",
              "  <thead>\n",
              "    <tr style=\"text-align: right;\">\n",
              "      <th></th>\n",
              "      <th>question_id</th>\n",
              "      <th>bundle_id</th>\n",
              "      <th>correct_answer</th>\n",
              "      <th>part</th>\n",
              "      <th>tags</th>\n",
              "    </tr>\n",
              "  </thead>\n",
              "  <tbody>\n",
              "    <tr>\n",
              "      <th>0</th>\n",
              "      <td>0</td>\n",
              "      <td>0</td>\n",
              "      <td>0</td>\n",
              "      <td>1</td>\n",
              "      <td>51 131 162 38</td>\n",
              "    </tr>\n",
              "    <tr>\n",
              "      <th>1</th>\n",
              "      <td>1</td>\n",
              "      <td>1</td>\n",
              "      <td>1</td>\n",
              "      <td>1</td>\n",
              "      <td>131 36 81</td>\n",
              "    </tr>\n",
              "    <tr>\n",
              "      <th>2</th>\n",
              "      <td>2</td>\n",
              "      <td>2</td>\n",
              "      <td>0</td>\n",
              "      <td>1</td>\n",
              "      <td>131 101 162 92</td>\n",
              "    </tr>\n",
              "    <tr>\n",
              "      <th>3</th>\n",
              "      <td>3</td>\n",
              "      <td>3</td>\n",
              "      <td>0</td>\n",
              "      <td>1</td>\n",
              "      <td>131 149 162 29</td>\n",
              "    </tr>\n",
              "    <tr>\n",
              "      <th>4</th>\n",
              "      <td>4</td>\n",
              "      <td>4</td>\n",
              "      <td>3</td>\n",
              "      <td>1</td>\n",
              "      <td>131 5 162 38</td>\n",
              "    </tr>\n",
              "    <tr>\n",
              "      <th>...</th>\n",
              "      <td>...</td>\n",
              "      <td>...</td>\n",
              "      <td>...</td>\n",
              "      <td>...</td>\n",
              "      <td>...</td>\n",
              "    </tr>\n",
              "    <tr>\n",
              "      <th>13518</th>\n",
              "      <td>13518</td>\n",
              "      <td>13518</td>\n",
              "      <td>3</td>\n",
              "      <td>5</td>\n",
              "      <td>14</td>\n",
              "    </tr>\n",
              "    <tr>\n",
              "      <th>13519</th>\n",
              "      <td>13519</td>\n",
              "      <td>13519</td>\n",
              "      <td>3</td>\n",
              "      <td>5</td>\n",
              "      <td>8</td>\n",
              "    </tr>\n",
              "    <tr>\n",
              "      <th>13520</th>\n",
              "      <td>13520</td>\n",
              "      <td>13520</td>\n",
              "      <td>2</td>\n",
              "      <td>5</td>\n",
              "      <td>73</td>\n",
              "    </tr>\n",
              "    <tr>\n",
              "      <th>13521</th>\n",
              "      <td>13521</td>\n",
              "      <td>13521</td>\n",
              "      <td>0</td>\n",
              "      <td>5</td>\n",
              "      <td>125</td>\n",
              "    </tr>\n",
              "    <tr>\n",
              "      <th>13522</th>\n",
              "      <td>13522</td>\n",
              "      <td>13522</td>\n",
              "      <td>3</td>\n",
              "      <td>5</td>\n",
              "      <td>55</td>\n",
              "    </tr>\n",
              "  </tbody>\n",
              "</table>\n",
              "<p>13523 rows × 5 columns</p>\n",
              "</div>"
            ],
            "text/plain": [
              "       question_id  bundle_id  correct_answer  part            tags\n",
              "0                0          0               0     1   51 131 162 38\n",
              "1                1          1               1     1       131 36 81\n",
              "2                2          2               0     1  131 101 162 92\n",
              "3                3          3               0     1  131 149 162 29\n",
              "4                4          4               3     1    131 5 162 38\n",
              "...            ...        ...             ...   ...             ...\n",
              "13518        13518      13518               3     5              14\n",
              "13519        13519      13519               3     5               8\n",
              "13520        13520      13520               2     5              73\n",
              "13521        13521      13521               0     5             125\n",
              "13522        13522      13522               3     5              55\n",
              "\n",
              "[13523 rows x 5 columns]"
            ]
          },
          "execution_count": 301,
          "metadata": {},
          "output_type": "execute_result"
        }
      ],
      "source": [
        "questions"
      ]
    },
    {
      "cell_type": "code",
      "execution_count": null,
      "id": "a5bdcba1",
      "metadata": {
        "scrolled": true,
        "id": "a5bdcba1",
        "outputId": "da460f29-4fdb-4825-b5e8-4453df417e66"
      },
      "outputs": [
        {
          "name": "stdout",
          "output_type": "stream",
          "text": [
            "<class 'pandas.core.frame.DataFrame'>\n",
            "RangeIndex: 13523 entries, 0 to 13522\n",
            "Data columns (total 5 columns):\n",
            " #   Column          Non-Null Count  Dtype \n",
            "---  ------          --------------  ----- \n",
            " 0   question_id     13523 non-null  int64 \n",
            " 1   bundle_id       13523 non-null  int64 \n",
            " 2   correct_answer  13523 non-null  int64 \n",
            " 3   part            13523 non-null  int64 \n",
            " 4   tags            13522 non-null  object\n",
            "dtypes: int64(4), object(1)\n",
            "memory usage: 528.4+ KB\n"
          ]
        }
      ],
      "source": [
        "questions.info()"
      ]
    },
    {
      "cell_type": "code",
      "execution_count": null,
      "id": "a4fd7f8c",
      "metadata": {
        "scrolled": true,
        "id": "a4fd7f8c",
        "outputId": "ad81dab1-4255-41f1-f2c8-7d3cdc184945"
      },
      "outputs": [
        {
          "data": {
            "text/html": [
              "<div>\n",
              "<style scoped>\n",
              "    .dataframe tbody tr th:only-of-type {\n",
              "        vertical-align: middle;\n",
              "    }\n",
              "\n",
              "    .dataframe tbody tr th {\n",
              "        vertical-align: top;\n",
              "    }\n",
              "\n",
              "    .dataframe thead th {\n",
              "        text-align: right;\n",
              "    }\n",
              "</style>\n",
              "<table border=\"1\" class=\"dataframe\">\n",
              "  <thead>\n",
              "    <tr style=\"text-align: right;\">\n",
              "      <th></th>\n",
              "      <th>question_id</th>\n",
              "      <th>bundle_id</th>\n",
              "      <th>correct_answer</th>\n",
              "      <th>part</th>\n",
              "    </tr>\n",
              "  </thead>\n",
              "  <tbody>\n",
              "    <tr>\n",
              "      <th>count</th>\n",
              "      <td>13523.00000</td>\n",
              "      <td>13523.000000</td>\n",
              "      <td>13523.000000</td>\n",
              "      <td>13523.000000</td>\n",
              "    </tr>\n",
              "    <tr>\n",
              "      <th>mean</th>\n",
              "      <td>6761.00000</td>\n",
              "      <td>6760.510907</td>\n",
              "      <td>1.455298</td>\n",
              "      <td>4.264956</td>\n",
              "    </tr>\n",
              "    <tr>\n",
              "      <th>std</th>\n",
              "      <td>3903.89818</td>\n",
              "      <td>3903.857783</td>\n",
              "      <td>1.149707</td>\n",
              "      <td>1.652553</td>\n",
              "    </tr>\n",
              "    <tr>\n",
              "      <th>min</th>\n",
              "      <td>0.00000</td>\n",
              "      <td>0.000000</td>\n",
              "      <td>0.000000</td>\n",
              "      <td>1.000000</td>\n",
              "    </tr>\n",
              "    <tr>\n",
              "      <th>25%</th>\n",
              "      <td>3380.50000</td>\n",
              "      <td>3379.500000</td>\n",
              "      <td>0.000000</td>\n",
              "      <td>3.000000</td>\n",
              "    </tr>\n",
              "    <tr>\n",
              "      <th>50%</th>\n",
              "      <td>6761.00000</td>\n",
              "      <td>6761.000000</td>\n",
              "      <td>1.000000</td>\n",
              "      <td>5.000000</td>\n",
              "    </tr>\n",
              "    <tr>\n",
              "      <th>75%</th>\n",
              "      <td>10141.50000</td>\n",
              "      <td>10140.000000</td>\n",
              "      <td>3.000000</td>\n",
              "      <td>5.000000</td>\n",
              "    </tr>\n",
              "    <tr>\n",
              "      <th>max</th>\n",
              "      <td>13522.00000</td>\n",
              "      <td>13522.000000</td>\n",
              "      <td>3.000000</td>\n",
              "      <td>7.000000</td>\n",
              "    </tr>\n",
              "  </tbody>\n",
              "</table>\n",
              "</div>"
            ],
            "text/plain": [
              "       question_id     bundle_id  correct_answer          part\n",
              "count  13523.00000  13523.000000    13523.000000  13523.000000\n",
              "mean    6761.00000   6760.510907        1.455298      4.264956\n",
              "std     3903.89818   3903.857783        1.149707      1.652553\n",
              "min        0.00000      0.000000        0.000000      1.000000\n",
              "25%     3380.50000   3379.500000        0.000000      3.000000\n",
              "50%     6761.00000   6761.000000        1.000000      5.000000\n",
              "75%    10141.50000  10140.000000        3.000000      5.000000\n",
              "max    13522.00000  13522.000000        3.000000      7.000000"
            ]
          },
          "execution_count": 27,
          "metadata": {},
          "output_type": "execute_result"
        }
      ],
      "source": [
        "questions.describe()"
      ]
    },
    {
      "cell_type": "markdown",
      "id": "b5be1ebf",
      "metadata": {
        "id": "b5be1ebf"
      },
      "source": [
        "в каких question_id чаще ошибались? в каких part чаще ошибались? в каких tags чаще ошибались? "
      ]
    },
    {
      "cell_type": "markdown",
      "id": "91f0ec00",
      "metadata": {
        "id": "91f0ec00"
      },
      "source": [
        "### Уникальны ли question_id?"
      ]
    },
    {
      "cell_type": "code",
      "execution_count": null,
      "id": "4e9b2a97",
      "metadata": {
        "id": "4e9b2a97",
        "outputId": "908c0abf-ea23-4e33-c931-0267901e4b8c"
      },
      "outputs": [
        {
          "data": {
            "text/plain": [
              "13523"
            ]
          },
          "execution_count": 414,
          "metadata": {},
          "output_type": "execute_result"
        }
      ],
      "source": [
        "len(questions['question_id'].unique())"
      ]
    },
    {
      "cell_type": "markdown",
      "id": "661714d3",
      "metadata": {
        "id": "661714d3"
      },
      "source": [
        "- Да"
      ]
    },
    {
      "cell_type": "markdown",
      "id": "f87319e1",
      "metadata": {
        "id": "f87319e1"
      },
      "source": [
        "### Распредление по модулям"
      ]
    },
    {
      "cell_type": "markdown",
      "id": "578538de",
      "metadata": {
        "id": "578538de"
      },
      "source": [
        "1. Общее распределение по модулям"
      ]
    },
    {
      "cell_type": "code",
      "execution_count": null,
      "id": "558ce270",
      "metadata": {
        "id": "558ce270",
        "outputId": "5cf5e9ff-71de-48ed-a427-c801f72b9586"
      },
      "outputs": [
        {
          "data": {
            "text/plain": [
              "5    5511\n",
              "2    1647\n",
              "3    1562\n",
              "4    1439\n",
              "6    1212\n",
              "7    1160\n",
              "1     992\n",
              "Name: part, dtype: int64"
            ]
          },
          "execution_count": 318,
          "metadata": {},
          "output_type": "execute_result"
        }
      ],
      "source": [
        "questions[\"part\"].value_counts()"
      ]
    },
    {
      "cell_type": "markdown",
      "id": "f33a4ccb",
      "metadata": {
        "id": "f33a4ccb"
      },
      "source": [
        "- больше всего вопросов в модуле 5"
      ]
    },
    {
      "cell_type": "markdown",
      "id": "e26de0cb",
      "metadata": {
        "id": "e26de0cb"
      },
      "source": [
        "2. Распределение по модулям в топе отвечаемых вопросов"
      ]
    },
    {
      "cell_type": "code",
      "execution_count": null,
      "id": "e2a4f0b3",
      "metadata": {
        "id": "e2a4f0b3",
        "outputId": "44f71a7d-2f03-4ffa-9596-cbce9708003e"
      },
      "outputs": [
        {
          "data": {
            "text/plain": [
              "5    4\n",
              "1    3\n",
              "3    3\n",
              "Name: part, dtype: int64"
            ]
          },
          "execution_count": 323,
          "metadata": {},
          "output_type": "execute_result"
        }
      ],
      "source": [
        "questions[questions[\"question_id\"].isin(ques.index)]['part'].value_counts()"
      ]
    },
    {
      "cell_type": "markdown",
      "id": "d359a0de",
      "metadata": {
        "id": "d359a0de"
      },
      "source": [
        "- Чаще всего отвечают на вопросы из модуля 5 (понятно, это самый объемный модуль)\n",
        "- На втором месте вопросы из модуля 1 и 3"
      ]
    },
    {
      "cell_type": "markdown",
      "id": "86555dc8",
      "metadata": {
        "id": "86555dc8"
      },
      "source": [
        "### Составим матрицу question_id/tag"
      ]
    },
    {
      "cell_type": "markdown",
      "id": "1a4a0c26",
      "metadata": {
        "id": "1a4a0c26"
      },
      "source": [
        "1. Получим полный список тегов"
      ]
    },
    {
      "cell_type": "code",
      "execution_count": null,
      "id": "531b3a25",
      "metadata": {
        "id": "531b3a25",
        "outputId": "afce425d-39af-4d4d-b2dd-1390b6cf438b"
      },
      "outputs": [
        {
          "data": {
            "text/plain": [
              "188"
            ]
          },
          "execution_count": 367,
          "metadata": {},
          "output_type": "execute_result"
        }
      ],
      "source": [
        "tags = set()\n",
        "questions['tags'].apply(lambda x: tags.add(str(x)) if isinstance(x, float) else tags.update(x.split()))\n",
        "\n",
        "tags.remove('nan')\n",
        "len(tags) # всего 188 тегов"
      ]
    },
    {
      "cell_type": "markdown",
      "id": "46d0da5f",
      "metadata": {
        "id": "46d0da5f"
      },
      "source": [
        "2. Получим список колонок"
      ]
    },
    {
      "cell_type": "code",
      "execution_count": null,
      "id": "1e2b71ec",
      "metadata": {
        "id": "1e2b71ec"
      },
      "outputs": [],
      "source": [
        "columns = ['question_id'] + list(tags)"
      ]
    },
    {
      "cell_type": "markdown",
      "id": "1da10450",
      "metadata": {
        "id": "1da10450"
      },
      "source": [
        "3. Шаблон для матрицы (пока теги заполним нулями)"
      ]
    },
    {
      "cell_type": "code",
      "execution_count": null,
      "id": "8b3bf8b8",
      "metadata": {
        "id": "8b3bf8b8",
        "outputId": "44d594ac-1cc7-47df-a702-113295986431"
      },
      "outputs": [
        {
          "data": {
            "text/html": [
              "<div>\n",
              "<style scoped>\n",
              "    .dataframe tbody tr th:only-of-type {\n",
              "        vertical-align: middle;\n",
              "    }\n",
              "\n",
              "    .dataframe tbody tr th {\n",
              "        vertical-align: top;\n",
              "    }\n",
              "\n",
              "    .dataframe thead th {\n",
              "        text-align: right;\n",
              "    }\n",
              "</style>\n",
              "<table border=\"1\" class=\"dataframe\">\n",
              "  <thead>\n",
              "    <tr style=\"text-align: right;\">\n",
              "      <th></th>\n",
              "      <th>29</th>\n",
              "      <th>109</th>\n",
              "      <th>52</th>\n",
              "      <th>45</th>\n",
              "      <th>120</th>\n",
              "      <th>20</th>\n",
              "      <th>72</th>\n",
              "      <th>163</th>\n",
              "      <th>76</th>\n",
              "      <th>49</th>\n",
              "      <th>...</th>\n",
              "      <th>41</th>\n",
              "      <th>10</th>\n",
              "      <th>114</th>\n",
              "      <th>179</th>\n",
              "      <th>11</th>\n",
              "      <th>160</th>\n",
              "      <th>50</th>\n",
              "      <th>135</th>\n",
              "      <th>65</th>\n",
              "      <th>85</th>\n",
              "    </tr>\n",
              "    <tr>\n",
              "      <th>question_id</th>\n",
              "      <th></th>\n",
              "      <th></th>\n",
              "      <th></th>\n",
              "      <th></th>\n",
              "      <th></th>\n",
              "      <th></th>\n",
              "      <th></th>\n",
              "      <th></th>\n",
              "      <th></th>\n",
              "      <th></th>\n",
              "      <th></th>\n",
              "      <th></th>\n",
              "      <th></th>\n",
              "      <th></th>\n",
              "      <th></th>\n",
              "      <th></th>\n",
              "      <th></th>\n",
              "      <th></th>\n",
              "      <th></th>\n",
              "      <th></th>\n",
              "      <th></th>\n",
              "    </tr>\n",
              "  </thead>\n",
              "  <tbody>\n",
              "    <tr>\n",
              "      <th>0</th>\n",
              "      <td>0</td>\n",
              "      <td>0</td>\n",
              "      <td>0</td>\n",
              "      <td>0</td>\n",
              "      <td>0</td>\n",
              "      <td>0</td>\n",
              "      <td>0</td>\n",
              "      <td>0</td>\n",
              "      <td>0</td>\n",
              "      <td>0</td>\n",
              "      <td>...</td>\n",
              "      <td>0</td>\n",
              "      <td>0</td>\n",
              "      <td>0</td>\n",
              "      <td>0</td>\n",
              "      <td>0</td>\n",
              "      <td>0</td>\n",
              "      <td>0</td>\n",
              "      <td>0</td>\n",
              "      <td>0</td>\n",
              "      <td>0</td>\n",
              "    </tr>\n",
              "    <tr>\n",
              "      <th>1</th>\n",
              "      <td>0</td>\n",
              "      <td>0</td>\n",
              "      <td>0</td>\n",
              "      <td>0</td>\n",
              "      <td>0</td>\n",
              "      <td>0</td>\n",
              "      <td>0</td>\n",
              "      <td>0</td>\n",
              "      <td>0</td>\n",
              "      <td>0</td>\n",
              "      <td>...</td>\n",
              "      <td>0</td>\n",
              "      <td>0</td>\n",
              "      <td>0</td>\n",
              "      <td>0</td>\n",
              "      <td>0</td>\n",
              "      <td>0</td>\n",
              "      <td>0</td>\n",
              "      <td>0</td>\n",
              "      <td>0</td>\n",
              "      <td>0</td>\n",
              "    </tr>\n",
              "    <tr>\n",
              "      <th>2</th>\n",
              "      <td>0</td>\n",
              "      <td>0</td>\n",
              "      <td>0</td>\n",
              "      <td>0</td>\n",
              "      <td>0</td>\n",
              "      <td>0</td>\n",
              "      <td>0</td>\n",
              "      <td>0</td>\n",
              "      <td>0</td>\n",
              "      <td>0</td>\n",
              "      <td>...</td>\n",
              "      <td>0</td>\n",
              "      <td>0</td>\n",
              "      <td>0</td>\n",
              "      <td>0</td>\n",
              "      <td>0</td>\n",
              "      <td>0</td>\n",
              "      <td>0</td>\n",
              "      <td>0</td>\n",
              "      <td>0</td>\n",
              "      <td>0</td>\n",
              "    </tr>\n",
              "    <tr>\n",
              "      <th>3</th>\n",
              "      <td>0</td>\n",
              "      <td>0</td>\n",
              "      <td>0</td>\n",
              "      <td>0</td>\n",
              "      <td>0</td>\n",
              "      <td>0</td>\n",
              "      <td>0</td>\n",
              "      <td>0</td>\n",
              "      <td>0</td>\n",
              "      <td>0</td>\n",
              "      <td>...</td>\n",
              "      <td>0</td>\n",
              "      <td>0</td>\n",
              "      <td>0</td>\n",
              "      <td>0</td>\n",
              "      <td>0</td>\n",
              "      <td>0</td>\n",
              "      <td>0</td>\n",
              "      <td>0</td>\n",
              "      <td>0</td>\n",
              "      <td>0</td>\n",
              "    </tr>\n",
              "    <tr>\n",
              "      <th>4</th>\n",
              "      <td>0</td>\n",
              "      <td>0</td>\n",
              "      <td>0</td>\n",
              "      <td>0</td>\n",
              "      <td>0</td>\n",
              "      <td>0</td>\n",
              "      <td>0</td>\n",
              "      <td>0</td>\n",
              "      <td>0</td>\n",
              "      <td>0</td>\n",
              "      <td>...</td>\n",
              "      <td>0</td>\n",
              "      <td>0</td>\n",
              "      <td>0</td>\n",
              "      <td>0</td>\n",
              "      <td>0</td>\n",
              "      <td>0</td>\n",
              "      <td>0</td>\n",
              "      <td>0</td>\n",
              "      <td>0</td>\n",
              "      <td>0</td>\n",
              "    </tr>\n",
              "    <tr>\n",
              "      <th>...</th>\n",
              "      <td>...</td>\n",
              "      <td>...</td>\n",
              "      <td>...</td>\n",
              "      <td>...</td>\n",
              "      <td>...</td>\n",
              "      <td>...</td>\n",
              "      <td>...</td>\n",
              "      <td>...</td>\n",
              "      <td>...</td>\n",
              "      <td>...</td>\n",
              "      <td>...</td>\n",
              "      <td>...</td>\n",
              "      <td>...</td>\n",
              "      <td>...</td>\n",
              "      <td>...</td>\n",
              "      <td>...</td>\n",
              "      <td>...</td>\n",
              "      <td>...</td>\n",
              "      <td>...</td>\n",
              "      <td>...</td>\n",
              "      <td>...</td>\n",
              "    </tr>\n",
              "    <tr>\n",
              "      <th>13518</th>\n",
              "      <td>0</td>\n",
              "      <td>0</td>\n",
              "      <td>0</td>\n",
              "      <td>0</td>\n",
              "      <td>0</td>\n",
              "      <td>0</td>\n",
              "      <td>0</td>\n",
              "      <td>0</td>\n",
              "      <td>0</td>\n",
              "      <td>0</td>\n",
              "      <td>...</td>\n",
              "      <td>0</td>\n",
              "      <td>0</td>\n",
              "      <td>0</td>\n",
              "      <td>0</td>\n",
              "      <td>0</td>\n",
              "      <td>0</td>\n",
              "      <td>0</td>\n",
              "      <td>0</td>\n",
              "      <td>0</td>\n",
              "      <td>0</td>\n",
              "    </tr>\n",
              "    <tr>\n",
              "      <th>13519</th>\n",
              "      <td>0</td>\n",
              "      <td>0</td>\n",
              "      <td>0</td>\n",
              "      <td>0</td>\n",
              "      <td>0</td>\n",
              "      <td>0</td>\n",
              "      <td>0</td>\n",
              "      <td>0</td>\n",
              "      <td>0</td>\n",
              "      <td>0</td>\n",
              "      <td>...</td>\n",
              "      <td>0</td>\n",
              "      <td>0</td>\n",
              "      <td>0</td>\n",
              "      <td>0</td>\n",
              "      <td>0</td>\n",
              "      <td>0</td>\n",
              "      <td>0</td>\n",
              "      <td>0</td>\n",
              "      <td>0</td>\n",
              "      <td>0</td>\n",
              "    </tr>\n",
              "    <tr>\n",
              "      <th>13520</th>\n",
              "      <td>0</td>\n",
              "      <td>0</td>\n",
              "      <td>0</td>\n",
              "      <td>0</td>\n",
              "      <td>0</td>\n",
              "      <td>0</td>\n",
              "      <td>0</td>\n",
              "      <td>0</td>\n",
              "      <td>0</td>\n",
              "      <td>0</td>\n",
              "      <td>...</td>\n",
              "      <td>0</td>\n",
              "      <td>0</td>\n",
              "      <td>0</td>\n",
              "      <td>0</td>\n",
              "      <td>0</td>\n",
              "      <td>0</td>\n",
              "      <td>0</td>\n",
              "      <td>0</td>\n",
              "      <td>0</td>\n",
              "      <td>0</td>\n",
              "    </tr>\n",
              "    <tr>\n",
              "      <th>13521</th>\n",
              "      <td>0</td>\n",
              "      <td>0</td>\n",
              "      <td>0</td>\n",
              "      <td>0</td>\n",
              "      <td>0</td>\n",
              "      <td>0</td>\n",
              "      <td>0</td>\n",
              "      <td>0</td>\n",
              "      <td>0</td>\n",
              "      <td>0</td>\n",
              "      <td>...</td>\n",
              "      <td>0</td>\n",
              "      <td>0</td>\n",
              "      <td>0</td>\n",
              "      <td>0</td>\n",
              "      <td>0</td>\n",
              "      <td>0</td>\n",
              "      <td>0</td>\n",
              "      <td>0</td>\n",
              "      <td>0</td>\n",
              "      <td>0</td>\n",
              "    </tr>\n",
              "    <tr>\n",
              "      <th>13522</th>\n",
              "      <td>0</td>\n",
              "      <td>0</td>\n",
              "      <td>0</td>\n",
              "      <td>0</td>\n",
              "      <td>0</td>\n",
              "      <td>0</td>\n",
              "      <td>0</td>\n",
              "      <td>0</td>\n",
              "      <td>0</td>\n",
              "      <td>0</td>\n",
              "      <td>...</td>\n",
              "      <td>0</td>\n",
              "      <td>0</td>\n",
              "      <td>0</td>\n",
              "      <td>0</td>\n",
              "      <td>0</td>\n",
              "      <td>0</td>\n",
              "      <td>0</td>\n",
              "      <td>0</td>\n",
              "      <td>0</td>\n",
              "      <td>0</td>\n",
              "    </tr>\n",
              "  </tbody>\n",
              "</table>\n",
              "<p>13523 rows × 188 columns</p>\n",
              "</div>"
            ],
            "text/plain": [
              "             29  109  52  45  120  20  72  163  76  49  ...  41  10  114  179  \\\n",
              "question_id                                             ...                     \n",
              "0             0    0   0   0    0   0   0    0   0   0  ...   0   0    0    0   \n",
              "1             0    0   0   0    0   0   0    0   0   0  ...   0   0    0    0   \n",
              "2             0    0   0   0    0   0   0    0   0   0  ...   0   0    0    0   \n",
              "3             0    0   0   0    0   0   0    0   0   0  ...   0   0    0    0   \n",
              "4             0    0   0   0    0   0   0    0   0   0  ...   0   0    0    0   \n",
              "...          ..  ...  ..  ..  ...  ..  ..  ...  ..  ..  ...  ..  ..  ...  ...   \n",
              "13518         0    0   0   0    0   0   0    0   0   0  ...   0   0    0    0   \n",
              "13519         0    0   0   0    0   0   0    0   0   0  ...   0   0    0    0   \n",
              "13520         0    0   0   0    0   0   0    0   0   0  ...   0   0    0    0   \n",
              "13521         0    0   0   0    0   0   0    0   0   0  ...   0   0    0    0   \n",
              "13522         0    0   0   0    0   0   0    0   0   0  ...   0   0    0    0   \n",
              "\n",
              "             11  160  50  135  65  85  \n",
              "question_id                            \n",
              "0             0    0   0    0   0   0  \n",
              "1             0    0   0    0   0   0  \n",
              "2             0    0   0    0   0   0  \n",
              "3             0    0   0    0   0   0  \n",
              "4             0    0   0    0   0   0  \n",
              "...          ..  ...  ..  ...  ..  ..  \n",
              "13518         0    0   0    0   0   0  \n",
              "13519         0    0   0    0   0   0  \n",
              "13520         0    0   0    0   0   0  \n",
              "13521         0    0   0    0   0   0  \n",
              "13522         0    0   0    0   0   0  \n",
              "\n",
              "[13523 rows x 188 columns]"
            ]
          },
          "execution_count": 437,
          "metadata": {},
          "output_type": "execute_result"
        }
      ],
      "source": [
        "matrix = pd.DataFrame({'question_id': questions['question_id']}, columns=columns).fillna(0)\n",
        "matrix.set_index('question_id', inplace=True)\n",
        "matrix"
      ]
    },
    {
      "cell_type": "markdown",
      "id": "b6ffc7a5",
      "metadata": {
        "id": "b6ffc7a5"
      },
      "source": [
        "4. Поставим 1 на пересечении тега и вопроса, если этот вопрос принадлежит этому тегу"
      ]
    },
    {
      "cell_type": "code",
      "execution_count": null,
      "id": "e57cb929",
      "metadata": {
        "id": "e57cb929"
      },
      "outputs": [],
      "source": [
        "for q_id in matrix.index:\n",
        "    q_tags = questions[questions['question_id'] == q_id]['tags'].iloc[0]\n",
        "    if isinstance(q_tags, float):\n",
        "        if np.isnan(float(q_tags)):\n",
        "            continue\n",
        "        matrix.loc[q_id, str(q_tags)] += 1\n",
        "    else:\n",
        "        tags_in_row = q_tags.split() \n",
        "        for tg in tags_in_row:\n",
        "            matrix.loc[q_id, tg] += 1"
      ]
    },
    {
      "cell_type": "markdown",
      "id": "e0b28015",
      "metadata": {
        "id": "e0b28015"
      },
      "source": [
        "### Какие теги чаще всего используются в вопросах?"
      ]
    },
    {
      "cell_type": "code",
      "execution_count": null,
      "id": "7c6a69ac",
      "metadata": {
        "id": "7c6a69ac",
        "outputId": "f51787e8-559f-41d7-a9da-b27dba08e6c6"
      },
      "outputs": [
        {
          "data": {
            "text/plain": [
              "92     2269\n",
              "38     2256\n",
              "81     1969\n",
              "29     1707\n",
              "136    1033\n",
              "       ... \n",
              "34        6\n",
              "121       5\n",
              "63        5\n",
              "186       3\n",
              "86        1\n",
              "Length: 188, dtype: int64"
            ]
          },
          "execution_count": 497,
          "metadata": {},
          "output_type": "execute_result"
        }
      ],
      "source": [
        "matrix.sum(axis=0).sort_values(ascending=False)"
      ]
    },
    {
      "cell_type": "markdown",
      "id": "06c05d15",
      "metadata": {
        "id": "06c05d15"
      },
      "source": [
        "- большинство вопросов имеют тег 92, затем 38, 81"
      ]
    },
    {
      "cell_type": "markdown",
      "id": "b734fc71",
      "metadata": {
        "id": "b734fc71"
      },
      "source": [
        "### Какие теги имеют вопросы, на которые чаще всего отвечают? "
      ]
    },
    {
      "cell_type": "code",
      "execution_count": null,
      "id": "604f5569",
      "metadata": {
        "id": "604f5569",
        "outputId": "87c0bb1e-b96d-444e-e700-63309ab355e9"
      },
      "outputs": [
        {
          "data": {
            "text/plain": [
              "92     5\n",
              "29     3\n",
              "136    2\n",
              "10     2\n",
              "123    1\n",
              "dtype: int64"
            ]
          },
          "execution_count": 482,
          "metadata": {},
          "output_type": "execute_result"
        }
      ],
      "source": [
        "matrix.loc[ques.index].sum(axis=0).sort_values(ascending=False).iloc[:5]"
      ]
    },
    {
      "cell_type": "markdown",
      "id": "fbbc3bc8",
      "metadata": {
        "id": "fbbc3bc8"
      },
      "source": [
        "- Вопросы, на которые отвечают чаще всего чаще всего имеют тег 92 (5 раз)"
      ]
    },
    {
      "cell_type": "markdown",
      "id": "2016c0f2",
      "metadata": {
        "id": "2016c0f2"
      },
      "source": [
        "### Чаще всего отвечают верно?"
      ]
    },
    {
      "cell_type": "code",
      "execution_count": null,
      "id": "b1dc02f1",
      "metadata": {
        "id": "b1dc02f1",
        "outputId": "e77ea8e0-d0f8-4a24-a7bf-1b3527d957f4"
      },
      "outputs": [
        {
          "data": {
            "text/plain": [
              "29     5\n",
              "92     5\n",
              "81     5\n",
              "137    4\n",
              "142    4\n",
              "dtype: int64"
            ]
          },
          "execution_count": 492,
          "metadata": {},
          "output_type": "execute_result"
        }
      ],
      "source": [
        "correct_answered_inds = correct_answered['content_id'].value_counts().iloc[:10]\n",
        "matrix.loc[correct_answered_inds.index].sum(axis=0).sort_values(ascending=False).iloc[:5]"
      ]
    },
    {
      "cell_type": "markdown",
      "id": "87f8ac4a",
      "metadata": {
        "id": "87f8ac4a"
      },
      "source": [
        "- чаще всего 29, 92 и 81 тег имеют вопросы, на которые ответили правильно"
      ]
    },
    {
      "cell_type": "markdown",
      "id": "f16bf89e",
      "metadata": {
        "id": "f16bf89e"
      },
      "source": [
        "### Чаще всего ошибаются?"
      ]
    },
    {
      "cell_type": "code",
      "execution_count": null,
      "id": "6c66e976",
      "metadata": {
        "id": "6c66e976",
        "outputId": "416fd04b-7854-4597-a882-576bd01a4a8e"
      },
      "outputs": [
        {
          "data": {
            "text/plain": [
              "92     5\n",
              "136    4\n",
              "29     3\n",
              "67     3\n",
              "103    2\n",
              "dtype: int64"
            ]
          },
          "execution_count": 491,
          "metadata": {},
          "output_type": "execute_result"
        }
      ],
      "source": [
        "incorrect_answered_inds = incorrect_answered['content_id'].value_counts().iloc[:10]\n",
        "matrix.loc[incorrect_answered_inds.index].sum(axis=0).sort_values(ascending=False).iloc[:5]"
      ]
    },
    {
      "cell_type": "markdown",
      "id": "dee41d4c",
      "metadata": {
        "id": "dee41d4c"
      },
      "source": [
        "- чаще всего 92 тег имеют вопросы, на которые ответили неправильно\n",
        "- 92 тег встречается во всех топах. Можно внимательнее изучить вопросы с ним"
      ]
    },
    {
      "cell_type": "markdown",
      "id": "11d7d438",
      "metadata": {
        "id": "11d7d438"
      },
      "source": [
        "### Всегда ли question_id и bundle_id одинаковы?"
      ]
    },
    {
      "cell_type": "code",
      "execution_count": null,
      "id": "f48da17f",
      "metadata": {
        "id": "f48da17f",
        "outputId": "fb239968-3a75-42da-f214-2fd989e05abb"
      },
      "outputs": [
        {
          "data": {
            "text/html": [
              "<div>\n",
              "<style scoped>\n",
              "    .dataframe tbody tr th:only-of-type {\n",
              "        vertical-align: middle;\n",
              "    }\n",
              "\n",
              "    .dataframe tbody tr th {\n",
              "        vertical-align: top;\n",
              "    }\n",
              "\n",
              "    .dataframe thead th {\n",
              "        text-align: right;\n",
              "    }\n",
              "</style>\n",
              "<table border=\"1\" class=\"dataframe\">\n",
              "  <thead>\n",
              "    <tr style=\"text-align: right;\">\n",
              "      <th></th>\n",
              "      <th>question_id</th>\n",
              "      <th>bundle_id</th>\n",
              "      <th>correct_answer</th>\n",
              "      <th>part</th>\n",
              "      <th>tags</th>\n",
              "    </tr>\n",
              "  </thead>\n",
              "  <tbody>\n",
              "    <tr>\n",
              "      <th>1401</th>\n",
              "      <td>1401</td>\n",
              "      <td>1400</td>\n",
              "      <td>0</td>\n",
              "      <td>3</td>\n",
              "      <td>136 92 102</td>\n",
              "    </tr>\n",
              "    <tr>\n",
              "      <th>1402</th>\n",
              "      <td>1402</td>\n",
              "      <td>1400</td>\n",
              "      <td>1</td>\n",
              "      <td>3</td>\n",
              "      <td>82 92 102</td>\n",
              "    </tr>\n",
              "    <tr>\n",
              "      <th>1404</th>\n",
              "      <td>1404</td>\n",
              "      <td>1403</td>\n",
              "      <td>0</td>\n",
              "      <td>3</td>\n",
              "      <td>136 38 29</td>\n",
              "    </tr>\n",
              "    <tr>\n",
              "      <th>1405</th>\n",
              "      <td>1405</td>\n",
              "      <td>1403</td>\n",
              "      <td>3</td>\n",
              "      <td>3</td>\n",
              "      <td>82 38 29</td>\n",
              "    </tr>\n",
              "    <tr>\n",
              "      <th>1407</th>\n",
              "      <td>1407</td>\n",
              "      <td>1406</td>\n",
              "      <td>3</td>\n",
              "      <td>3</td>\n",
              "      <td>136 38 102</td>\n",
              "    </tr>\n",
              "    <tr>\n",
              "      <th>...</th>\n",
              "      <td>...</td>\n",
              "      <td>...</td>\n",
              "      <td>...</td>\n",
              "      <td>...</td>\n",
              "      <td>...</td>\n",
              "    </tr>\n",
              "    <tr>\n",
              "      <th>13246</th>\n",
              "      <td>13246</td>\n",
              "      <td>13244</td>\n",
              "      <td>1</td>\n",
              "      <td>3</td>\n",
              "      <td>136 81 92</td>\n",
              "    </tr>\n",
              "    <tr>\n",
              "      <th>13248</th>\n",
              "      <td>13248</td>\n",
              "      <td>13247</td>\n",
              "      <td>2</td>\n",
              "      <td>3</td>\n",
              "      <td>136 81 92</td>\n",
              "    </tr>\n",
              "    <tr>\n",
              "      <th>13249</th>\n",
              "      <td>13249</td>\n",
              "      <td>13247</td>\n",
              "      <td>1</td>\n",
              "      <td>3</td>\n",
              "      <td>136 81 92</td>\n",
              "    </tr>\n",
              "    <tr>\n",
              "      <th>13251</th>\n",
              "      <td>13251</td>\n",
              "      <td>13250</td>\n",
              "      <td>2</td>\n",
              "      <td>3</td>\n",
              "      <td>136 81 92</td>\n",
              "    </tr>\n",
              "    <tr>\n",
              "      <th>13252</th>\n",
              "      <td>13252</td>\n",
              "      <td>13250</td>\n",
              "      <td>0</td>\n",
              "      <td>3</td>\n",
              "      <td>136 81 92</td>\n",
              "    </tr>\n",
              "  </tbody>\n",
              "</table>\n",
              "<p>3758 rows × 5 columns</p>\n",
              "</div>"
            ],
            "text/plain": [
              "       question_id  bundle_id  correct_answer  part        tags\n",
              "1401          1401       1400               0     3  136 92 102\n",
              "1402          1402       1400               1     3   82 92 102\n",
              "1404          1404       1403               0     3   136 38 29\n",
              "1405          1405       1403               3     3    82 38 29\n",
              "1407          1407       1406               3     3  136 38 102\n",
              "...            ...        ...             ...   ...         ...\n",
              "13246        13246      13244               1     3   136 81 92\n",
              "13248        13248      13247               2     3   136 81 92\n",
              "13249        13249      13247               1     3   136 81 92\n",
              "13251        13251      13250               2     3   136 81 92\n",
              "13252        13252      13250               0     3   136 81 92\n",
              "\n",
              "[3758 rows x 5 columns]"
            ]
          },
          "execution_count": 317,
          "metadata": {},
          "output_type": "execute_result"
        }
      ],
      "source": [
        "# выберем вопросы, в которых question_id и bundle_id имеют разные значения\n",
        "questions[questions['question_id'] != questions['bundle_id']]"
      ]
    },
    {
      "cell_type": "markdown",
      "id": "aa5869c5",
      "metadata": {
        "id": "aa5869c5"
      },
      "source": [
        "Нет "
      ]
    },
    {
      "cell_type": "code",
      "execution_count": null,
      "id": "6044f7f1",
      "metadata": {
        "id": "6044f7f1"
      },
      "outputs": [],
      "source": []
    },
    {
      "cell_type": "markdown",
      "id": "35ebd581",
      "metadata": {
        "id": "35ebd581"
      },
      "source": [
        "# lectures - лекции"
      ]
    },
    {
      "cell_type": "markdown",
      "id": "236ae336",
      "metadata": {
        "id": "236ae336"
      },
      "source": [
        "- **lecture_id:** связка для content_id column в train (если лекция content_type_id = 1)\n",
        "- **part:** код категории верхнего уровня для лекции. Будем считать, что это номер модуля\n",
        "- **tag:** единственный тег лекции\n",
        "- **type_of:** краткое описание основной цели лекции."
      ]
    },
    {
      "cell_type": "code",
      "execution_count": null,
      "id": "1edac2f8",
      "metadata": {
        "id": "1edac2f8"
      },
      "outputs": [],
      "source": [
        "lectures = pd.read_csv(\"riiid-test-answer-prediction/lectures.csv\")"
      ]
    },
    {
      "cell_type": "code",
      "execution_count": null,
      "id": "ffe9327a",
      "metadata": {
        "id": "ffe9327a",
        "outputId": "4fe7707f-1271-40a5-c1a9-7d22824257c4"
      },
      "outputs": [
        {
          "data": {
            "text/html": [
              "<div>\n",
              "<style scoped>\n",
              "    .dataframe tbody tr th:only-of-type {\n",
              "        vertical-align: middle;\n",
              "    }\n",
              "\n",
              "    .dataframe tbody tr th {\n",
              "        vertical-align: top;\n",
              "    }\n",
              "\n",
              "    .dataframe thead th {\n",
              "        text-align: right;\n",
              "    }\n",
              "</style>\n",
              "<table border=\"1\" class=\"dataframe\">\n",
              "  <thead>\n",
              "    <tr style=\"text-align: right;\">\n",
              "      <th></th>\n",
              "      <th>lecture_id</th>\n",
              "      <th>tag</th>\n",
              "      <th>part</th>\n",
              "      <th>type_of</th>\n",
              "    </tr>\n",
              "  </thead>\n",
              "  <tbody>\n",
              "    <tr>\n",
              "      <th>0</th>\n",
              "      <td>89</td>\n",
              "      <td>159</td>\n",
              "      <td>5</td>\n",
              "      <td>concept</td>\n",
              "    </tr>\n",
              "    <tr>\n",
              "      <th>1</th>\n",
              "      <td>100</td>\n",
              "      <td>70</td>\n",
              "      <td>1</td>\n",
              "      <td>concept</td>\n",
              "    </tr>\n",
              "    <tr>\n",
              "      <th>2</th>\n",
              "      <td>185</td>\n",
              "      <td>45</td>\n",
              "      <td>6</td>\n",
              "      <td>concept</td>\n",
              "    </tr>\n",
              "    <tr>\n",
              "      <th>3</th>\n",
              "      <td>192</td>\n",
              "      <td>79</td>\n",
              "      <td>5</td>\n",
              "      <td>solving question</td>\n",
              "    </tr>\n",
              "    <tr>\n",
              "      <th>4</th>\n",
              "      <td>317</td>\n",
              "      <td>156</td>\n",
              "      <td>5</td>\n",
              "      <td>solving question</td>\n",
              "    </tr>\n",
              "  </tbody>\n",
              "</table>\n",
              "</div>"
            ],
            "text/plain": [
              "   lecture_id  tag  part           type_of\n",
              "0          89  159     5           concept\n",
              "1         100   70     1           concept\n",
              "2         185   45     6           concept\n",
              "3         192   79     5  solving question\n",
              "4         317  156     5  solving question"
            ]
          },
          "execution_count": 303,
          "metadata": {},
          "output_type": "execute_result"
        }
      ],
      "source": [
        "lectures.head()"
      ]
    },
    {
      "cell_type": "code",
      "execution_count": null,
      "id": "169bf2d2",
      "metadata": {
        "id": "169bf2d2",
        "outputId": "5c89d785-3aac-4c62-d07a-0854fe441c49"
      },
      "outputs": [
        {
          "name": "stdout",
          "output_type": "stream",
          "text": [
            "<class 'pandas.core.frame.DataFrame'>\n",
            "RangeIndex: 418 entries, 0 to 417\n",
            "Data columns (total 4 columns):\n",
            " #   Column      Non-Null Count  Dtype \n",
            "---  ------      --------------  ----- \n",
            " 0   lecture_id  418 non-null    int64 \n",
            " 1   tag         418 non-null    int64 \n",
            " 2   part        418 non-null    int64 \n",
            " 3   type_of     418 non-null    object\n",
            "dtypes: int64(3), object(1)\n",
            "memory usage: 13.2+ KB\n"
          ]
        }
      ],
      "source": [
        "lectures.info()"
      ]
    },
    {
      "cell_type": "code",
      "execution_count": null,
      "id": "3ff8d0a3",
      "metadata": {
        "id": "3ff8d0a3",
        "outputId": "169ee30b-cb9a-40ce-9b14-bcdb79d541cb"
      },
      "outputs": [
        {
          "data": {
            "text/html": [
              "<div>\n",
              "<style scoped>\n",
              "    .dataframe tbody tr th:only-of-type {\n",
              "        vertical-align: middle;\n",
              "    }\n",
              "\n",
              "    .dataframe tbody tr th {\n",
              "        vertical-align: top;\n",
              "    }\n",
              "\n",
              "    .dataframe thead th {\n",
              "        text-align: right;\n",
              "    }\n",
              "</style>\n",
              "<table border=\"1\" class=\"dataframe\">\n",
              "  <thead>\n",
              "    <tr style=\"text-align: right;\">\n",
              "      <th></th>\n",
              "      <th>lecture_id</th>\n",
              "      <th>tag</th>\n",
              "      <th>part</th>\n",
              "    </tr>\n",
              "  </thead>\n",
              "  <tbody>\n",
              "    <tr>\n",
              "      <th>count</th>\n",
              "      <td>418.000000</td>\n",
              "      <td>418.000000</td>\n",
              "      <td>418.000000</td>\n",
              "    </tr>\n",
              "    <tr>\n",
              "      <th>mean</th>\n",
              "      <td>16983.401914</td>\n",
              "      <td>94.480861</td>\n",
              "      <td>4.267943</td>\n",
              "    </tr>\n",
              "    <tr>\n",
              "      <th>std</th>\n",
              "      <td>9426.164660</td>\n",
              "      <td>53.586487</td>\n",
              "      <td>1.872424</td>\n",
              "    </tr>\n",
              "    <tr>\n",
              "      <th>min</th>\n",
              "      <td>89.000000</td>\n",
              "      <td>0.000000</td>\n",
              "      <td>1.000000</td>\n",
              "    </tr>\n",
              "    <tr>\n",
              "      <th>25%</th>\n",
              "      <td>9026.250000</td>\n",
              "      <td>50.250000</td>\n",
              "      <td>2.000000</td>\n",
              "    </tr>\n",
              "    <tr>\n",
              "      <th>50%</th>\n",
              "      <td>17161.500000</td>\n",
              "      <td>94.500000</td>\n",
              "      <td>5.000000</td>\n",
              "    </tr>\n",
              "    <tr>\n",
              "      <th>75%</th>\n",
              "      <td>24906.250000</td>\n",
              "      <td>140.000000</td>\n",
              "      <td>6.000000</td>\n",
              "    </tr>\n",
              "    <tr>\n",
              "      <th>max</th>\n",
              "      <td>32736.000000</td>\n",
              "      <td>187.000000</td>\n",
              "      <td>7.000000</td>\n",
              "    </tr>\n",
              "  </tbody>\n",
              "</table>\n",
              "</div>"
            ],
            "text/plain": [
              "         lecture_id         tag        part\n",
              "count    418.000000  418.000000  418.000000\n",
              "mean   16983.401914   94.480861    4.267943\n",
              "std     9426.164660   53.586487    1.872424\n",
              "min       89.000000    0.000000    1.000000\n",
              "25%     9026.250000   50.250000    2.000000\n",
              "50%    17161.500000   94.500000    5.000000\n",
              "75%    24906.250000  140.000000    6.000000\n",
              "max    32736.000000  187.000000    7.000000"
            ]
          },
          "execution_count": 313,
          "metadata": {},
          "output_type": "execute_result"
        }
      ],
      "source": [
        "lectures.describe()"
      ]
    },
    {
      "cell_type": "markdown",
      "id": "2e37be87",
      "metadata": {
        "id": "2e37be87"
      },
      "source": [
        "### Типы лекций, модули и теги"
      ]
    },
    {
      "cell_type": "markdown",
      "id": "bfbefd64",
      "metadata": {
        "id": "bfbefd64"
      },
      "source": [
        "1. Посмотрим, какие типы лекции представлены в датасете"
      ]
    },
    {
      "cell_type": "code",
      "execution_count": null,
      "id": "4a339da1",
      "metadata": {
        "id": "4a339da1",
        "outputId": "1c11db2f-b387-4eff-d38a-7d731481f437"
      },
      "outputs": [
        {
          "data": {
            "text/plain": [
              "concept             222\n",
              "solving question    186\n",
              "intention             7\n",
              "starter               3\n",
              "Name: type_of, dtype: int64"
            ]
          },
          "execution_count": 304,
          "metadata": {},
          "output_type": "execute_result"
        }
      ],
      "source": [
        "lectures['type_of'].value_counts()"
      ]
    },
    {
      "cell_type": "markdown",
      "id": "30b04690",
      "metadata": {
        "id": "30b04690"
      },
      "source": [
        "2. Посмотрим, как модули представлены в датасете"
      ]
    },
    {
      "cell_type": "code",
      "execution_count": null,
      "id": "1dfeccfe",
      "metadata": {
        "id": "1dfeccfe",
        "outputId": "4d90f46e-6cc2-4d4a-de44-3e5d8b683a61"
      },
      "outputs": [
        {
          "data": {
            "text/plain": [
              "5    143\n",
              "6     83\n",
              "2     56\n",
              "1     54\n",
              "7     32\n",
              "4     31\n",
              "3     19\n",
              "Name: part, dtype: int64"
            ]
          },
          "execution_count": 311,
          "metadata": {},
          "output_type": "execute_result"
        }
      ],
      "source": [
        "lectures['part'].value_counts()"
      ]
    },
    {
      "cell_type": "markdown",
      "id": "925f48da",
      "metadata": {
        "id": "925f48da"
      },
      "source": [
        "3. Посмотрим, топ-10 тегов"
      ]
    },
    {
      "cell_type": "code",
      "execution_count": null,
      "id": "aa8e710a",
      "metadata": {
        "id": "aa8e710a",
        "outputId": "42cf6916-abd2-447c-e207-8b599103164e"
      },
      "outputs": [
        {
          "data": {
            "text/plain": [
              "136    7\n",
              "27     6\n",
              "161    6\n",
              "74     6\n",
              "134    6\n",
              "116    6\n",
              "113    6\n",
              "62     6\n",
              "114    5\n",
              "70     5\n",
              "Name: tag, dtype: int64"
            ]
          },
          "execution_count": 316,
          "metadata": {},
          "output_type": "execute_result"
        }
      ],
      "source": [
        "lectures['tag'].value_counts().iloc[:10]"
      ]
    },
    {
      "cell_type": "markdown",
      "id": "310407e5",
      "metadata": {
        "id": "310407e5"
      },
      "source": [
        "### Типы, модули и теги в топе просматрвиаемых"
      ]
    },
    {
      "cell_type": "code",
      "execution_count": null,
      "id": "7b2e15b6",
      "metadata": {
        "id": "7b2e15b6",
        "outputId": "a2c05e90-7f8a-4693-c081-63a40a8d4354"
      },
      "outputs": [
        {
          "data": {
            "text/html": [
              "<div>\n",
              "<style scoped>\n",
              "    .dataframe tbody tr th:only-of-type {\n",
              "        vertical-align: middle;\n",
              "    }\n",
              "\n",
              "    .dataframe tbody tr th {\n",
              "        vertical-align: top;\n",
              "    }\n",
              "\n",
              "    .dataframe thead th {\n",
              "        text-align: right;\n",
              "    }\n",
              "</style>\n",
              "<table border=\"1\" class=\"dataframe\">\n",
              "  <thead>\n",
              "    <tr style=\"text-align: right;\">\n",
              "      <th></th>\n",
              "      <th>lecture_id</th>\n",
              "      <th>tag</th>\n",
              "      <th>part</th>\n",
              "      <th>type_of</th>\n",
              "    </tr>\n",
              "  </thead>\n",
              "  <tbody>\n",
              "    <tr>\n",
              "      <th>38</th>\n",
              "      <td>3153</td>\n",
              "      <td>62</td>\n",
              "      <td>2</td>\n",
              "      <td>intention</td>\n",
              "    </tr>\n",
              "    <tr>\n",
              "      <th>125</th>\n",
              "      <td>10540</td>\n",
              "      <td>99</td>\n",
              "      <td>1</td>\n",
              "      <td>concept</td>\n",
              "    </tr>\n",
              "    <tr>\n",
              "      <th>190</th>\n",
              "      <td>15888</td>\n",
              "      <td>26</td>\n",
              "      <td>5</td>\n",
              "      <td>concept</td>\n",
              "    </tr>\n",
              "    <tr>\n",
              "      <th>227</th>\n",
              "      <td>18545</td>\n",
              "      <td>58</td>\n",
              "      <td>5</td>\n",
              "      <td>concept</td>\n",
              "    </tr>\n",
              "    <tr>\n",
              "      <th>262</th>\n",
              "      <td>21411</td>\n",
              "      <td>163</td>\n",
              "      <td>2</td>\n",
              "      <td>solving question</td>\n",
              "    </tr>\n",
              "    <tr>\n",
              "      <th>326</th>\n",
              "      <td>26335</td>\n",
              "      <td>170</td>\n",
              "      <td>5</td>\n",
              "      <td>concept</td>\n",
              "    </tr>\n",
              "    <tr>\n",
              "      <th>351</th>\n",
              "      <td>27845</td>\n",
              "      <td>108</td>\n",
              "      <td>5</td>\n",
              "      <td>concept</td>\n",
              "    </tr>\n",
              "    <tr>\n",
              "      <th>367</th>\n",
              "      <td>29544</td>\n",
              "      <td>30</td>\n",
              "      <td>2</td>\n",
              "      <td>concept</td>\n",
              "    </tr>\n",
              "    <tr>\n",
              "      <th>372</th>\n",
              "      <td>29695</td>\n",
              "      <td>27</td>\n",
              "      <td>6</td>\n",
              "      <td>concept</td>\n",
              "    </tr>\n",
              "    <tr>\n",
              "      <th>411</th>\n",
              "      <td>32312</td>\n",
              "      <td>176</td>\n",
              "      <td>2</td>\n",
              "      <td>concept</td>\n",
              "    </tr>\n",
              "  </tbody>\n",
              "</table>\n",
              "</div>"
            ],
            "text/plain": [
              "     lecture_id  tag  part           type_of\n",
              "38         3153   62     2         intention\n",
              "125       10540   99     1           concept\n",
              "190       15888   26     5           concept\n",
              "227       18545   58     5           concept\n",
              "262       21411  163     2  solving question\n",
              "326       26335  170     5           concept\n",
              "351       27845  108     5           concept\n",
              "367       29544   30     2           concept\n",
              "372       29695   27     6           concept\n",
              "411       32312  176     2           concept"
            ]
          },
          "execution_count": 310,
          "metadata": {},
          "output_type": "execute_result"
        }
      ],
      "source": [
        "lectures[lectures['lecture_id'].isin(ans.index)]"
      ]
    },
    {
      "cell_type": "markdown",
      "id": "17bbfbf7",
      "metadata": {
        "id": "17bbfbf7"
      },
      "source": [
        "- 8 из 10 лекций имеют тип concept \n",
        "- большинство из модулей 2 и 5"
      ]
    },
    {
      "cell_type": "code",
      "execution_count": null,
      "id": "1bde7399",
      "metadata": {
        "id": "1bde7399"
      },
      "outputs": [],
      "source": []
    }
  ],
  "metadata": {
    "kernelspec": {
      "display_name": "Python 3 (ipykernel)",
      "language": "python",
      "name": "python3"
    },
    "language_info": {
      "codemirror_mode": {
        "name": "ipython",
        "version": 3
      },
      "file_extension": ".py",
      "mimetype": "text/x-python",
      "name": "python",
      "nbconvert_exporter": "python",
      "pygments_lexer": "ipython3",
      "version": "3.9.12"
    },
    "colab": {
      "provenance": [],
      "include_colab_link": true
    }
  },
  "nbformat": 4,
  "nbformat_minor": 5
}